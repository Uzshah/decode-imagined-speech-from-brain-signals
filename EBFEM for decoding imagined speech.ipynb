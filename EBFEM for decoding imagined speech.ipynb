{
 "cells": [
  {
   "cell_type": "code",
   "execution_count": 1,
   "id": "8e52d3a3",
   "metadata": {},
   "outputs": [],
   "source": [
    "from utils import utils\n",
    "import numpy as np\n",
    "from models import models\n",
    "import warnings\n",
    "warnings.filterwarnings(\"ignore\", category=FutureWarning)"
   ]
  },
  {
   "cell_type": "code",
   "execution_count": 2,
   "id": "ce2032be",
   "metadata": {},
   "outputs": [],
   "source": [
    "u = utils()\n",
    "m = models()"
   ]
  },
  {
   "cell_type": "code",
   "execution_count": 3,
   "id": "191e601b",
   "metadata": {},
   "outputs": [],
   "source": [
    "x_train, y_train, channels = u.extract_all()\n",
    "x_test, y_test, channels = u.extract_all(subset=\"valid\")"
   ]
  },
  {
   "cell_type": "code",
   "execution_count": 49,
   "id": "e2611a2e",
   "metadata": {},
   "outputs": [],
   "source": [
    "channels_names=list(channels.keys())"
   ]
  },
  {
   "cell_type": "code",
   "execution_count": 4,
   "id": "9ee08a34",
   "metadata": {},
   "outputs": [
    {
     "data": {
      "text/plain": [
       "((4500, 64, 795), (750, 64, 795))"
      ]
     },
     "execution_count": 4,
     "metadata": {},
     "output_type": "execute_result"
    }
   ],
   "source": [
    "x_train.shape, x_test.shape"
   ]
  },
  {
   "cell_type": "code",
   "execution_count": 5,
   "id": "16653c61",
   "metadata": {},
   "outputs": [],
   "source": [
    "def check_rythm(rythm, x_train, y_train, x_test, y_test, features = \"statistics\"):\n",
    "    x_train = u.get_ryhtm(x_train, rythm)\n",
    "    x_test = u.get_ryhtm(x_test, rythm)\n",
    "    \n",
    "    print(\"statical features extraction start\")\n",
    "    x_train_temp = np.asarray([u.temporal_features(raw, counter=idx) for idx, raw in enumerate(x_train)])\n",
    "    x_test_temp = np.asarray([u.temporal_features(raw, counter=idx) for idx, raw in enumerate(x_test)])\n",
    "    print(\"statical features extraction complete\")\n",
    "    print(\"temporal features extraction start\")\n",
    "    x_train_stat = np.asarray([u.statistical_features(raw, counter=idx) for idx, raw in enumerate(x_train)])\n",
    "    x_test_stat = np.asarray([u.statistical_features(raw, counter=idx) for idx, raw in enumerate(x_test)])\n",
    "    print(\"temporal features extraction end\")\n",
    "    print(\"spectral features extraction start\")\n",
    "    x_train_spect = np.asarray([u.spectral_features(raw, counter=idx) for idx, raw in enumerate(x_train)])\n",
    "    x_test_spect = np.asarray([u.spectral_features(raw, counter=idx) for idx, raw in enumerate(x_test)])\n",
    "    print(\"spectral features extraction end\")\n",
    "    \n",
    "    return x_train_temp, x_test_temp, x_train_stat, x_test_stat, x_train_spect, x_test_spect\n",
    "        "
   ]
  },
  {
   "cell_type": "code",
   "execution_count": 14,
   "id": "ac4b9577",
   "metadata": {},
   "outputs": [
    {
     "name": "stdout",
     "output_type": "stream",
     "text": [
      "statical features extraction start\n",
      "Trail  0\n",
      "Trail  1000\n",
      "Trail  2000\n",
      "Trail  3000\n",
      "Trail  4000\n",
      "Trail  0\n",
      "statical features extraction complete\n",
      "temporal features extraction start\n",
      "Trail  0\n",
      "Trail  1000\n",
      "Trail  2000\n",
      "Trail  3000\n",
      "Trail  4000\n",
      "Trail  0\n",
      "temporal features extraction end\n",
      "spectral features extraction start\n",
      "Trail  0\n",
      "Trail  1000\n",
      "Trail  2000\n",
      "Trail  3000\n",
      "Trail  4000\n",
      "Trail  0\n",
      "spectral features extraction end\n"
     ]
    }
   ],
   "source": [
    "x_train_temp, x_test_temp, x_train_stat, x_test_stat, x_train_spect, x_test_spect = check_rythm(\"delta\", x_train, y_train, x_test, y_test)"
   ]
  },
  {
   "cell_type": "code",
   "execution_count": 49,
   "id": "e2076132",
   "metadata": {},
   "outputs": [],
   "source": [
    "def flatten_arr(testlist):\n",
    "    output = list()\n",
    "    for i in testlist:\n",
    "        if isinstance(i, float)==False and isinstance(i, int)==False:\n",
    "            output.extend(i)\n",
    "        else:\n",
    "            output.append(i)\n",
    "    return output\n",
    "x_train_spect = np.array([flatten_arr(feat) for feat in x_train_spect])\n",
    "x_test_spect = np.array([flatten_arr(feat) for feat in -x_test_spect])"
   ]
  },
  {
   "cell_type": "code",
   "execution_count": 50,
   "id": "6a8ebfee",
   "metadata": {},
   "outputs": [],
   "source": [
    "x_train_stat_temp = np.hstack((x_train_stat, x_train_temp))\n",
    "x_test_stat_temp = np.hstack((x_test_stat, x_test_temp))\n",
    "x_train_stat_spect = np.hstack((x_train_stat, x_train_spect))\n",
    "x_test_stat_spect = np.hstack((x_test_stat, x_test_spect))\n",
    "x_train_temp_spect = np.hstack((x_train_temp, x_train_spect))\n",
    "x_test_temp_spect = np.hstack((x_test_temp, x_test_spect))\n",
    "x_train_all_features = np.hstack((x_train_stat, x_train_temp, x_train_spect))\n",
    "x_test_all_features = np.hstack((x_test_stat, x_test_temp, x_test_spect))"
   ]
  },
  {
   "cell_type": "code",
   "execution_count": 52,
   "id": "91066657",
   "metadata": {},
   "outputs": [],
   "source": [
    "ttt = [\"x_train_temp\", \"x_test_temp\", \"x_train_stat\", \"x_test_stat\", \"x_train_spect\", \"x_test_spect\",\n",
    "       \"x_train_stat_temp\", \"x_test_stat_temp\", \"x_train_stat_spect\", \"x_test_stat_spect\", \"x_train_temp_spect\",\n",
    "       \"x_test_temp_spect\", \"x_train_all_features\", \"x_test_all_features\"]\n",
    "t = [x_train_temp, x_test_temp, x_train_stat, x_test_stat, x_train_spect, x_test_spect,x_train_stat_temp, \n",
    "     x_test_stat_temp, x_train_stat_spect, x_test_stat_spect, x_train_temp_spect,x_test_temp_spect, \n",
    "     x_train_all_features, x_test_all_features]\n",
    "# for filename, data in zip(ttt, t):\n",
    "#     filen = filename+\".npy\"\n",
    "#     with open(filen, 'wb') as f:\n",
    "#         np.save(f, data)"
   ]
  },
  {
   "cell_type": "code",
   "execution_count": 17,
   "id": "6dd8ee51",
   "metadata": {},
   "outputs": [],
   "source": [
    "from sklearn.neighbors import KNeighborsClassifier\n",
    "from sklearn.metrics import accuracy_score, confusion_matrix\n",
    "from sklearn.metrics import classification_report\n",
    "\n",
    "def knnclf(x_train, y_train, x_test, y_test):\n",
    "    kclf = KNeighborsClassifier(n_neighbors=1)\n",
    "    kclf.fit(x_train, y_train)\n",
    "    y_pred = kclf.predict(x_test)\n",
    "    print(\"Accuracy:\", accuracy_score(y_test, y_pred))\n",
    "    print(\"\\n -------------Classification Report-------------\\n\")\n",
    "    print(classification_report(y_test, y_pred))"
   ]
  },
  {
   "cell_type": "code",
   "execution_count": 71,
   "id": "bb7c8dba",
   "metadata": {},
   "outputs": [
    {
     "name": "stdout",
     "output_type": "stream",
     "text": [
      "x_train_temp\n",
      "Accuracy: 0.26266666666666666\n",
      "\n",
      " -------------Classification Report-------------\n",
      "\n",
      "              precision    recall  f1-score   support\n",
      "\n",
      "           0       0.27      0.26      0.27       150\n",
      "           1       0.25      0.25      0.25       150\n",
      "           2       0.27      0.27      0.27       150\n",
      "           3       0.26      0.27      0.27       150\n",
      "           4       0.26      0.27      0.26       150\n",
      "\n",
      "   micro avg       0.26      0.26      0.26       750\n",
      "   macro avg       0.26      0.26      0.26       750\n",
      "weighted avg       0.26      0.26      0.26       750\n",
      " samples avg       0.26      0.26      0.26       750\n",
      "\n",
      "x_train_stat\n",
      "Accuracy: 0.23866666666666667\n",
      "\n",
      " -------------Classification Report-------------\n",
      "\n",
      "              precision    recall  f1-score   support\n",
      "\n",
      "           0       0.24      0.25      0.24       150\n",
      "           1       0.20      0.19      0.20       150\n",
      "           2       0.26      0.27      0.26       150\n",
      "           3       0.23      0.22      0.22       150\n",
      "           4       0.26      0.27      0.27       150\n",
      "\n",
      "   micro avg       0.24      0.24      0.24       750\n",
      "   macro avg       0.24      0.24      0.24       750\n",
      "weighted avg       0.24      0.24      0.24       750\n",
      " samples avg       0.24      0.24      0.24       750\n",
      "\n",
      "x_train_spect\n",
      "Accuracy: 0.188\n",
      "\n",
      " -------------Classification Report-------------\n",
      "\n",
      "              precision    recall  f1-score   support\n",
      "\n",
      "           0       0.25      0.01      0.03       150\n",
      "           1       0.19      0.41      0.26       150\n",
      "           2       0.12      0.03      0.04       150\n",
      "           3       0.14      0.01      0.01       150\n",
      "           4       0.19      0.48      0.27       150\n",
      "\n",
      "   micro avg       0.19      0.19      0.19       750\n",
      "   macro avg       0.18      0.19      0.12       750\n",
      "weighted avg       0.18      0.19      0.12       750\n",
      " samples avg       0.19      0.19      0.19       750\n",
      "\n",
      "x_train_stat_temp\n",
      "Accuracy: 0.24133333333333334\n",
      "\n",
      " -------------Classification Report-------------\n",
      "\n",
      "              precision    recall  f1-score   support\n",
      "\n",
      "           0       0.25      0.26      0.25       150\n",
      "           1       0.20      0.19      0.20       150\n",
      "           2       0.25      0.27      0.26       150\n",
      "           3       0.23      0.22      0.22       150\n",
      "           4       0.27      0.27      0.27       150\n",
      "\n",
      "   micro avg       0.24      0.24      0.24       750\n",
      "   macro avg       0.24      0.24      0.24       750\n",
      "weighted avg       0.24      0.24      0.24       750\n",
      " samples avg       0.24      0.24      0.24       750\n",
      "\n",
      "x_train_stat_spect\n",
      "Accuracy: 0.188\n",
      "\n",
      " -------------Classification Report-------------\n",
      "\n",
      "              precision    recall  f1-score   support\n",
      "\n",
      "           0       0.25      0.01      0.03       150\n",
      "           1       0.19      0.41      0.26       150\n",
      "           2       0.12      0.03      0.04       150\n",
      "           3       0.14      0.01      0.01       150\n",
      "           4       0.19      0.48      0.27       150\n",
      "\n",
      "   micro avg       0.19      0.19      0.19       750\n",
      "   macro avg       0.18      0.19      0.12       750\n",
      "weighted avg       0.18      0.19      0.12       750\n",
      " samples avg       0.19      0.19      0.19       750\n",
      "\n",
      "x_train_temp_spect\n",
      "Accuracy: 0.188\n",
      "\n",
      " -------------Classification Report-------------\n",
      "\n",
      "              precision    recall  f1-score   support\n",
      "\n",
      "           0       0.25      0.01      0.03       150\n",
      "           1       0.19      0.41      0.26       150\n",
      "           2       0.12      0.03      0.04       150\n",
      "           3       0.14      0.01      0.01       150\n",
      "           4       0.19      0.48      0.27       150\n",
      "\n",
      "   micro avg       0.19      0.19      0.19       750\n",
      "   macro avg       0.18      0.19      0.12       750\n",
      "weighted avg       0.18      0.19      0.12       750\n",
      " samples avg       0.19      0.19      0.19       750\n",
      "\n",
      "x_train_all_features\n",
      "Accuracy: 0.188\n",
      "\n",
      " -------------Classification Report-------------\n",
      "\n",
      "              precision    recall  f1-score   support\n",
      "\n",
      "           0       0.25      0.01      0.03       150\n",
      "           1       0.19      0.41      0.26       150\n",
      "           2       0.12      0.03      0.04       150\n",
      "           3       0.14      0.01      0.01       150\n",
      "           4       0.19      0.48      0.27       150\n",
      "\n",
      "   micro avg       0.19      0.19      0.19       750\n",
      "   macro avg       0.18      0.19      0.12       750\n",
      "weighted avg       0.18      0.19      0.12       750\n",
      " samples avg       0.19      0.19      0.19       750\n",
      "\n"
     ]
    }
   ],
   "source": [
    "for i in range(0, 14, 2):\n",
    "    print(ttt[i])\n",
    "    knnclf(t[i], y_train, t[i+1], y_test)"
   ]
  },
  {
   "cell_type": "markdown",
   "id": "09a201ff",
   "metadata": {},
   "source": [
    "# Theta"
   ]
  },
  {
   "cell_type": "code",
   "execution_count": 80,
   "id": "85d5f8d1",
   "metadata": {},
   "outputs": [
    {
     "name": "stdout",
     "output_type": "stream",
     "text": [
      "statical features extraction start\n",
      "Trail  0\n",
      "Trail  1000\n",
      "Trail  2000\n",
      "Trail  3000\n",
      "Trail  4000\n",
      "Trail  0\n",
      "statical features extraction complete\n",
      "temporal features extraction start\n",
      "Trail  0\n",
      "Trail  1000\n",
      "Trail  2000\n",
      "Trail  3000\n",
      "Trail  4000\n",
      "Trail  0\n",
      "temporal features extraction end\n",
      "spectral features extraction start\n",
      "Trail  0\n",
      "Trail  1000\n",
      "Trail  2000\n",
      "Trail  3000\n",
      "Trail  4000\n",
      "Trail  0\n",
      "spectral features extraction end\n"
     ]
    }
   ],
   "source": [
    "x_train_temp, x_test_temp, x_train_stat, x_test_stat, x_train_spect, x_test_spect = check_rythm(\"theta\", x_train, y_train, x_test, y_test)"
   ]
  },
  {
   "cell_type": "code",
   "execution_count": 81,
   "id": "80377da7",
   "metadata": {},
   "outputs": [],
   "source": [
    "def flatten_arr(testlist):\n",
    "    output = list()\n",
    "    for i in testlist:\n",
    "        if isinstance(i, float)==False and isinstance(i, int)==False:\n",
    "            output.extend(i)\n",
    "        else:\n",
    "            output.append(i)\n",
    "    return output\n",
    "x_train_spect = np.array([flatten_arr(feat) for feat in x_train_spect])\n",
    "x_test_spect = np.array([flatten_arr(feat) for feat in x_test_spect])"
   ]
  },
  {
   "cell_type": "code",
   "execution_count": 82,
   "id": "ea246eaa",
   "metadata": {},
   "outputs": [],
   "source": [
    "x_train_stat_temp = np.hstack((x_train_stat, x_train_temp))\n",
    "x_test_stat_temp = np.hstack((x_test_stat, x_test_temp))\n",
    "x_train_stat_spect = np.hstack((x_train_stat, x_train_spect))\n",
    "x_test_stat_spect = np.hstack((x_test_stat, x_test_spect))\n",
    "x_train_temp_spect = np.hstack((x_train_temp, x_train_spect))\n",
    "x_test_temp_spect = np.hstack((x_test_temp, x_test_spect))\n",
    "x_train_all_features = np.hstack((x_train_stat, x_train_temp, x_train_spect))\n",
    "x_test_all_features = np.hstack((x_test_stat, x_test_temp, x_test_spect))"
   ]
  },
  {
   "cell_type": "code",
   "execution_count": 83,
   "id": "25b865e7",
   "metadata": {},
   "outputs": [],
   "source": [
    "ttt = [\"x_train_temp\", \"x_test_temp\", \"x_train_stat\", \"x_test_stat\", \"x_train_spect\", \"x_test_spect\",\n",
    "       \"x_train_stat_temp\", \"x_test_stat_temp\", \"x_train_stat_spect\", \"x_test_stat_spect\", \"x_train_temp_spect\",\n",
    "       \"x_test_temp_spect\", \"x_train_all_features\", \"x_test_all_features\"]\n",
    "t = [x_train_temp, x_test_temp, x_train_stat, x_test_stat, x_train_spect, x_test_spect,x_train_stat_temp, \n",
    "     x_test_stat_temp, x_train_stat_spect, x_test_stat_spect, x_train_temp_spect,x_test_temp_spect, \n",
    "     x_train_all_features, x_test_all_features]"
   ]
  },
  {
   "cell_type": "code",
   "execution_count": 84,
   "id": "0455d38c",
   "metadata": {},
   "outputs": [
    {
     "name": "stdout",
     "output_type": "stream",
     "text": [
      "x_train_temp\n",
      "Accuracy: 0.30666666666666664\n",
      "\n",
      " -------------Classification Report-------------\n",
      "\n",
      "              precision    recall  f1-score   support\n",
      "\n",
      "           0       0.32      0.31      0.31       150\n",
      "           1       0.35      0.30      0.32       150\n",
      "           2       0.30      0.32      0.31       150\n",
      "           3       0.28      0.29      0.28       150\n",
      "           4       0.30      0.32      0.31       150\n",
      "\n",
      "   micro avg       0.31      0.31      0.31       750\n",
      "   macro avg       0.31      0.31      0.31       750\n",
      "weighted avg       0.31      0.31      0.31       750\n",
      " samples avg       0.31      0.31      0.31       750\n",
      "\n",
      "x_train_stat\n",
      "Accuracy: 0.32266666666666666\n",
      "\n",
      " -------------Classification Report-------------\n",
      "\n",
      "              precision    recall  f1-score   support\n",
      "\n",
      "           0       0.31      0.30      0.31       150\n",
      "           1       0.35      0.35      0.35       150\n",
      "           2       0.34      0.33      0.33       150\n",
      "           3       0.32      0.31      0.32       150\n",
      "           4       0.29      0.32      0.31       150\n",
      "\n",
      "   micro avg       0.32      0.32      0.32       750\n",
      "   macro avg       0.32      0.32      0.32       750\n",
      "weighted avg       0.32      0.32      0.32       750\n",
      " samples avg       0.32      0.32      0.32       750\n",
      "\n",
      "x_train_spect\n",
      "Accuracy: 0.3506666666666667\n",
      "\n",
      " -------------Classification Report-------------\n",
      "\n",
      "              precision    recall  f1-score   support\n",
      "\n",
      "           0       0.34      0.33      0.34       150\n",
      "           1       0.33      0.34      0.33       150\n",
      "           2       0.36      0.34      0.35       150\n",
      "           3       0.36      0.35      0.36       150\n",
      "           4       0.36      0.39      0.37       150\n",
      "\n",
      "   micro avg       0.35      0.35      0.35       750\n",
      "   macro avg       0.35      0.35      0.35       750\n",
      "weighted avg       0.35      0.35      0.35       750\n",
      " samples avg       0.35      0.35      0.35       750\n",
      "\n",
      "x_train_stat_temp\n",
      "Accuracy: 0.32666666666666666\n",
      "\n",
      " -------------Classification Report-------------\n",
      "\n",
      "              precision    recall  f1-score   support\n",
      "\n",
      "           0       0.33      0.31      0.32       150\n",
      "           1       0.35      0.33      0.34       150\n",
      "           2       0.34      0.36      0.35       150\n",
      "           3       0.33      0.32      0.33       150\n",
      "           4       0.29      0.31      0.30       150\n",
      "\n",
      "   micro avg       0.33      0.33      0.33       750\n",
      "   macro avg       0.33      0.33      0.33       750\n",
      "weighted avg       0.33      0.33      0.33       750\n",
      " samples avg       0.33      0.33      0.33       750\n",
      "\n",
      "x_train_stat_spect\n",
      "Accuracy: 0.3506666666666667\n",
      "\n",
      " -------------Classification Report-------------\n",
      "\n",
      "              precision    recall  f1-score   support\n",
      "\n",
      "           0       0.34      0.33      0.34       150\n",
      "           1       0.33      0.34      0.33       150\n",
      "           2       0.36      0.34      0.35       150\n",
      "           3       0.36      0.35      0.36       150\n",
      "           4       0.36      0.39      0.37       150\n",
      "\n",
      "   micro avg       0.35      0.35      0.35       750\n",
      "   macro avg       0.35      0.35      0.35       750\n",
      "weighted avg       0.35      0.35      0.35       750\n",
      " samples avg       0.35      0.35      0.35       750\n",
      "\n",
      "x_train_temp_spect\n",
      "Accuracy: 0.3506666666666667\n",
      "\n",
      " -------------Classification Report-------------\n",
      "\n",
      "              precision    recall  f1-score   support\n",
      "\n",
      "           0       0.34      0.33      0.34       150\n",
      "           1       0.33      0.34      0.33       150\n",
      "           2       0.36      0.34      0.35       150\n",
      "           3       0.36      0.35      0.36       150\n",
      "           4       0.36      0.39      0.37       150\n",
      "\n",
      "   micro avg       0.35      0.35      0.35       750\n",
      "   macro avg       0.35      0.35      0.35       750\n",
      "weighted avg       0.35      0.35      0.35       750\n",
      " samples avg       0.35      0.35      0.35       750\n",
      "\n",
      "x_train_all_features\n",
      "Accuracy: 0.3506666666666667\n",
      "\n",
      " -------------Classification Report-------------\n",
      "\n",
      "              precision    recall  f1-score   support\n",
      "\n",
      "           0       0.34      0.33      0.34       150\n",
      "           1       0.33      0.34      0.33       150\n",
      "           2       0.36      0.34      0.35       150\n",
      "           3       0.36      0.35      0.36       150\n",
      "           4       0.36      0.39      0.37       150\n",
      "\n",
      "   micro avg       0.35      0.35      0.35       750\n",
      "   macro avg       0.35      0.35      0.35       750\n",
      "weighted avg       0.35      0.35      0.35       750\n",
      " samples avg       0.35      0.35      0.35       750\n",
      "\n"
     ]
    }
   ],
   "source": [
    "for i in range(0, 14, 2):\n",
    "    print(ttt[i])\n",
    "    knnclf(t[i], y_train, t[i+1], y_test)"
   ]
  },
  {
   "cell_type": "markdown",
   "id": "a8ee4e77",
   "metadata": {},
   "source": [
    "# Alpha"
   ]
  },
  {
   "cell_type": "code",
   "execution_count": 85,
   "id": "f736235e",
   "metadata": {},
   "outputs": [
    {
     "name": "stdout",
     "output_type": "stream",
     "text": [
      "statical features extraction start\n",
      "Trail  0\n",
      "Trail  1000\n",
      "Trail  2000\n",
      "Trail  3000\n",
      "Trail  4000\n",
      "Trail  0\n",
      "statical features extraction complete\n",
      "temporal features extraction start\n",
      "Trail  0\n",
      "Trail  1000\n",
      "Trail  2000\n",
      "Trail  3000\n",
      "Trail  4000\n",
      "Trail  0\n",
      "temporal features extraction end\n",
      "spectral features extraction start\n",
      "Trail  0\n"
     ]
    },
    {
     "name": "stderr",
     "output_type": "stream",
     "text": [
      "C:\\Users\\97450\\OneDrive - Hamad bin Khalifa University\\Desktop\\Project\\Master_thesis_project\\OSF dataset\\Speech Decoding From EEG signals\\utils.py:135: VisibleDeprecationWarning: Creating an ndarray from ragged nested sequences (which is a list-or-tuple of lists-or-tuples-or ndarrays with different lengths or shapes) is deprecated. If you meant to do this, you must specify 'dtype=object' when creating the ndarray.\n",
      "  return np.array(output)\n"
     ]
    },
    {
     "name": "stdout",
     "output_type": "stream",
     "text": [
      "Trail  1000\n",
      "Trail  2000\n",
      "Trail  3000\n",
      "Trail  4000\n",
      "Trail  0\n",
      "spectral features extraction end\n"
     ]
    }
   ],
   "source": [
    "x_train_temp, x_test_temp, x_train_stat, x_test_stat, x_train_spect, x_test_spect = check_rythm(\"alpha\", x_train, y_train, x_test, y_test)\n",
    "def flatten_arr(testlist):\n",
    "    output = list()\n",
    "    for i in testlist:\n",
    "        if isinstance(i, float)==False and isinstance(i, int)==False:\n",
    "            output.extend(i)\n",
    "        else:\n",
    "            output.append(i)\n",
    "    return output\n",
    "x_train_spect = np.array([flatten_arr(feat) for feat in x_train_spect])\n",
    "x_test_spect = np.array([flatten_arr(feat) for feat in x_test_spect])"
   ]
  },
  {
   "cell_type": "code",
   "execution_count": 86,
   "id": "ff688b1c",
   "metadata": {},
   "outputs": [
    {
     "name": "stdout",
     "output_type": "stream",
     "text": [
      "x_train_temp\n",
      "Accuracy: 0.24666666666666667\n",
      "\n",
      " -------------Classification Report-------------\n",
      "\n",
      "              precision    recall  f1-score   support\n",
      "\n",
      "           0       0.22      0.20      0.21       150\n",
      "           1       0.28      0.23      0.25       150\n",
      "           2       0.26      0.29      0.28       150\n",
      "           3       0.26      0.28      0.27       150\n",
      "           4       0.22      0.23      0.22       150\n",
      "\n",
      "   micro avg       0.25      0.25      0.25       750\n",
      "   macro avg       0.25      0.25      0.25       750\n",
      "weighted avg       0.25      0.25      0.25       750\n",
      " samples avg       0.25      0.25      0.25       750\n",
      "\n",
      "x_train_stat\n",
      "Accuracy: 0.268\n",
      "\n",
      " -------------Classification Report-------------\n",
      "\n",
      "              precision    recall  f1-score   support\n",
      "\n",
      "           0       0.26      0.25      0.26       150\n",
      "           1       0.23      0.20      0.22       150\n",
      "           2       0.28      0.29      0.28       150\n",
      "           3       0.29      0.32      0.31       150\n",
      "           4       0.26      0.29      0.27       150\n",
      "\n",
      "   micro avg       0.27      0.27      0.27       750\n",
      "   macro avg       0.27      0.27      0.27       750\n",
      "weighted avg       0.27      0.27      0.27       750\n",
      " samples avg       0.27      0.27      0.27       750\n",
      "\n",
      "x_train_spect\n",
      "Accuracy: 0.27066666666666667\n",
      "\n",
      " -------------Classification Report-------------\n",
      "\n",
      "              precision    recall  f1-score   support\n",
      "\n",
      "           0       0.25      0.24      0.24       150\n",
      "           1       0.26      0.23      0.25       150\n",
      "           2       0.26      0.25      0.26       150\n",
      "           3       0.28      0.33      0.30       150\n",
      "           4       0.30      0.30      0.30       150\n",
      "\n",
      "   micro avg       0.27      0.27      0.27       750\n",
      "   macro avg       0.27      0.27      0.27       750\n",
      "weighted avg       0.27      0.27      0.27       750\n",
      " samples avg       0.27      0.27      0.27       750\n",
      "\n",
      "x_train_stat_temp\n",
      "Accuracy: 0.24133333333333334\n",
      "\n",
      " -------------Classification Report-------------\n",
      "\n",
      "              precision    recall  f1-score   support\n",
      "\n",
      "           0       0.22      0.21      0.21       150\n",
      "           1       0.26      0.21      0.23       150\n",
      "           2       0.25      0.29      0.27       150\n",
      "           3       0.25      0.27      0.26       150\n",
      "           4       0.22      0.24      0.23       150\n",
      "\n",
      "   micro avg       0.24      0.24      0.24       750\n",
      "   macro avg       0.24      0.24      0.24       750\n",
      "weighted avg       0.24      0.24      0.24       750\n",
      " samples avg       0.24      0.24      0.24       750\n",
      "\n",
      "x_train_stat_spect\n",
      "Accuracy: 0.27066666666666667\n",
      "\n",
      " -------------Classification Report-------------\n",
      "\n",
      "              precision    recall  f1-score   support\n",
      "\n",
      "           0       0.25      0.24      0.24       150\n",
      "           1       0.26      0.23      0.25       150\n",
      "           2       0.26      0.25      0.26       150\n",
      "           3       0.28      0.33      0.30       150\n",
      "           4       0.30      0.30      0.30       150\n",
      "\n",
      "   micro avg       0.27      0.27      0.27       750\n",
      "   macro avg       0.27      0.27      0.27       750\n",
      "weighted avg       0.27      0.27      0.27       750\n",
      " samples avg       0.27      0.27      0.27       750\n",
      "\n",
      "x_train_temp_spect\n",
      "Accuracy: 0.27066666666666667\n",
      "\n",
      " -------------Classification Report-------------\n",
      "\n",
      "              precision    recall  f1-score   support\n",
      "\n",
      "           0       0.25      0.24      0.24       150\n",
      "           1       0.26      0.23      0.25       150\n",
      "           2       0.26      0.25      0.26       150\n",
      "           3       0.28      0.33      0.30       150\n",
      "           4       0.30      0.30      0.30       150\n",
      "\n",
      "   micro avg       0.27      0.27      0.27       750\n",
      "   macro avg       0.27      0.27      0.27       750\n",
      "weighted avg       0.27      0.27      0.27       750\n",
      " samples avg       0.27      0.27      0.27       750\n",
      "\n",
      "x_train_all_features\n",
      "Accuracy: 0.27066666666666667\n",
      "\n",
      " -------------Classification Report-------------\n",
      "\n",
      "              precision    recall  f1-score   support\n",
      "\n",
      "           0       0.25      0.24      0.24       150\n",
      "           1       0.26      0.23      0.25       150\n",
      "           2       0.26      0.25      0.26       150\n",
      "           3       0.28      0.33      0.30       150\n",
      "           4       0.30      0.30      0.30       150\n",
      "\n",
      "   micro avg       0.27      0.27      0.27       750\n",
      "   macro avg       0.27      0.27      0.27       750\n",
      "weighted avg       0.27      0.27      0.27       750\n",
      " samples avg       0.27      0.27      0.27       750\n",
      "\n"
     ]
    }
   ],
   "source": [
    "x_train_stat_temp = np.hstack((x_train_stat, x_train_temp))\n",
    "x_test_stat_temp = np.hstack((x_test_stat, x_test_temp))\n",
    "x_train_stat_spect = np.hstack((x_train_stat, x_train_spect))\n",
    "x_test_stat_spect = np.hstack((x_test_stat, x_test_spect))\n",
    "x_train_temp_spect = np.hstack((x_train_temp, x_train_spect))\n",
    "x_test_temp_spect = np.hstack((x_test_temp, x_test_spect))\n",
    "x_train_all_features = np.hstack((x_train_stat, x_train_temp, x_train_spect))\n",
    "x_test_all_features = np.hstack((x_test_stat, x_test_temp, x_test_spect))\n",
    "ttt = [\"x_train_temp\", \"x_test_temp\", \"x_train_stat\", \"x_test_stat\", \"x_train_spect\", \"x_test_spect\",\n",
    "       \"x_train_stat_temp\", \"x_test_stat_temp\", \"x_train_stat_spect\", \"x_test_stat_spect\", \"x_train_temp_spect\",\n",
    "       \"x_test_temp_spect\", \"x_train_all_features\", \"x_test_all_features\"]\n",
    "t = [x_train_temp, x_test_temp, x_train_stat, x_test_stat, x_train_spect, x_test_spect,x_train_stat_temp, \n",
    "     x_test_stat_temp, x_train_stat_spect, x_test_stat_spect, x_train_temp_spect,x_test_temp_spect, \n",
    "     x_train_all_features, x_test_all_features]\n",
    "for i in range(0, 14, 2):\n",
    "    print(ttt[i])\n",
    "    knnclf(t[i], y_train, t[i+1], y_test)"
   ]
  },
  {
   "cell_type": "markdown",
   "id": "136e128e",
   "metadata": {},
   "source": [
    "# Beta"
   ]
  },
  {
   "cell_type": "code",
   "execution_count": 87,
   "id": "4b81381c",
   "metadata": {},
   "outputs": [
    {
     "name": "stdout",
     "output_type": "stream",
     "text": [
      "statical features extraction start\n",
      "Trail  0\n",
      "Trail  1000\n",
      "Trail  2000\n",
      "Trail  3000\n",
      "Trail  4000\n",
      "Trail  0\n",
      "statical features extraction complete\n",
      "temporal features extraction start\n",
      "Trail  0\n",
      "Trail  1000\n",
      "Trail  2000\n",
      "Trail  3000\n",
      "Trail  4000\n",
      "Trail  0\n",
      "temporal features extraction end\n",
      "spectral features extraction start\n",
      "Trail  0\n"
     ]
    },
    {
     "name": "stderr",
     "output_type": "stream",
     "text": [
      "C:\\Users\\97450\\OneDrive - Hamad bin Khalifa University\\Desktop\\Project\\Master_thesis_project\\OSF dataset\\Speech Decoding From EEG signals\\utils.py:135: VisibleDeprecationWarning: Creating an ndarray from ragged nested sequences (which is a list-or-tuple of lists-or-tuples-or ndarrays with different lengths or shapes) is deprecated. If you meant to do this, you must specify 'dtype=object' when creating the ndarray.\n",
      "  return np.array(output)\n"
     ]
    },
    {
     "name": "stdout",
     "output_type": "stream",
     "text": [
      "Trail  1000\n",
      "Trail  2000\n",
      "Trail  3000\n",
      "Trail  4000\n",
      "Trail  0\n",
      "spectral features extraction end\n"
     ]
    }
   ],
   "source": [
    "x_train_temp, x_test_temp, x_train_stat, x_test_stat, x_train_spect, x_test_spect = check_rythm(\"beta\", x_train, y_train, x_test, y_test)\n",
    "def flatten_arr(testlist):\n",
    "    output = list()\n",
    "    for i in testlist:\n",
    "        if isinstance(i, float)==False and isinstance(i, int)==False:\n",
    "            output.extend(i)\n",
    "        else:\n",
    "            output.append(i)\n",
    "    return output\n",
    "x_train_spect = np.array([flatten_arr(feat) for feat in x_train_spect])\n",
    "x_test_spect = np.array([flatten_arr(feat) for feat in x_test_spect])"
   ]
  },
  {
   "cell_type": "code",
   "execution_count": 88,
   "id": "0be4b6f6",
   "metadata": {},
   "outputs": [
    {
     "name": "stdout",
     "output_type": "stream",
     "text": [
      "x_train_temp\n",
      "Accuracy: 0.3933333333333333\n",
      "\n",
      " -------------Classification Report-------------\n",
      "\n",
      "              precision    recall  f1-score   support\n",
      "\n",
      "           0       0.35      0.35      0.35       150\n",
      "           1       0.39      0.39      0.39       150\n",
      "           2       0.41      0.40      0.40       150\n",
      "           3       0.39      0.36      0.37       150\n",
      "           4       0.43      0.46      0.45       150\n",
      "\n",
      "   micro avg       0.39      0.39      0.39       750\n",
      "   macro avg       0.39      0.39      0.39       750\n",
      "weighted avg       0.39      0.39      0.39       750\n",
      " samples avg       0.39      0.39      0.39       750\n",
      "\n",
      "x_train_stat\n",
      "Accuracy: 0.384\n",
      "\n",
      " -------------Classification Report-------------\n",
      "\n",
      "              precision    recall  f1-score   support\n",
      "\n",
      "           0       0.41      0.39      0.40       150\n",
      "           1       0.37      0.35      0.36       150\n",
      "           2       0.40      0.41      0.41       150\n",
      "           3       0.38      0.39      0.39       150\n",
      "           4       0.36      0.37      0.37       150\n",
      "\n",
      "   micro avg       0.38      0.38      0.38       750\n",
      "   macro avg       0.38      0.38      0.38       750\n",
      "weighted avg       0.38      0.38      0.38       750\n",
      " samples avg       0.38      0.38      0.38       750\n",
      "\n",
      "x_train_spect\n",
      "Accuracy: 0.37066666666666664\n",
      "\n",
      " -------------Classification Report-------------\n",
      "\n",
      "              precision    recall  f1-score   support\n",
      "\n",
      "           0       0.36      0.33      0.34       150\n",
      "           1       0.33      0.35      0.34       150\n",
      "           2       0.39      0.37      0.38       150\n",
      "           3       0.37      0.38      0.37       150\n",
      "           4       0.41      0.41      0.41       150\n",
      "\n",
      "   micro avg       0.37      0.37      0.37       750\n",
      "   macro avg       0.37      0.37      0.37       750\n",
      "weighted avg       0.37      0.37      0.37       750\n",
      " samples avg       0.37      0.37      0.37       750\n",
      "\n",
      "x_train_stat_temp\n",
      "Accuracy: 0.39066666666666666\n",
      "\n",
      " -------------Classification Report-------------\n",
      "\n",
      "              precision    recall  f1-score   support\n",
      "\n",
      "           0       0.34      0.35      0.35       150\n",
      "           1       0.38      0.39      0.39       150\n",
      "           2       0.40      0.40      0.40       150\n",
      "           3       0.39      0.36      0.37       150\n",
      "           4       0.43      0.46      0.45       150\n",
      "\n",
      "   micro avg       0.39      0.39      0.39       750\n",
      "   macro avg       0.39      0.39      0.39       750\n",
      "weighted avg       0.39      0.39      0.39       750\n",
      " samples avg       0.39      0.39      0.39       750\n",
      "\n",
      "x_train_stat_spect\n",
      "Accuracy: 0.37066666666666664\n",
      "\n",
      " -------------Classification Report-------------\n",
      "\n",
      "              precision    recall  f1-score   support\n",
      "\n",
      "           0       0.36      0.33      0.34       150\n",
      "           1       0.33      0.35      0.34       150\n",
      "           2       0.39      0.37      0.38       150\n",
      "           3       0.37      0.38      0.37       150\n",
      "           4       0.41      0.41      0.41       150\n",
      "\n",
      "   micro avg       0.37      0.37      0.37       750\n",
      "   macro avg       0.37      0.37      0.37       750\n",
      "weighted avg       0.37      0.37      0.37       750\n",
      " samples avg       0.37      0.37      0.37       750\n",
      "\n",
      "x_train_temp_spect\n",
      "Accuracy: 0.37066666666666664\n",
      "\n",
      " -------------Classification Report-------------\n",
      "\n",
      "              precision    recall  f1-score   support\n",
      "\n",
      "           0       0.36      0.33      0.34       150\n",
      "           1       0.33      0.35      0.34       150\n",
      "           2       0.39      0.37      0.38       150\n",
      "           3       0.37      0.38      0.37       150\n",
      "           4       0.41      0.41      0.41       150\n",
      "\n",
      "   micro avg       0.37      0.37      0.37       750\n",
      "   macro avg       0.37      0.37      0.37       750\n",
      "weighted avg       0.37      0.37      0.37       750\n",
      " samples avg       0.37      0.37      0.37       750\n",
      "\n",
      "x_train_all_features\n",
      "Accuracy: 0.37066666666666664\n",
      "\n",
      " -------------Classification Report-------------\n",
      "\n",
      "              precision    recall  f1-score   support\n",
      "\n",
      "           0       0.36      0.33      0.34       150\n",
      "           1       0.33      0.35      0.34       150\n",
      "           2       0.39      0.37      0.38       150\n",
      "           3       0.37      0.38      0.37       150\n",
      "           4       0.41      0.41      0.41       150\n",
      "\n",
      "   micro avg       0.37      0.37      0.37       750\n",
      "   macro avg       0.37      0.37      0.37       750\n",
      "weighted avg       0.37      0.37      0.37       750\n",
      " samples avg       0.37      0.37      0.37       750\n",
      "\n"
     ]
    }
   ],
   "source": [
    "x_train_stat_temp = np.hstack((x_train_stat, x_train_temp))\n",
    "x_test_stat_temp = np.hstack((x_test_stat, x_test_temp))\n",
    "x_train_stat_spect = np.hstack((x_train_stat, x_train_spect))\n",
    "x_test_stat_spect = np.hstack((x_test_stat, x_test_spect))\n",
    "x_train_temp_spect = np.hstack((x_train_temp, x_train_spect))\n",
    "x_test_temp_spect = np.hstack((x_test_temp, x_test_spect))\n",
    "x_train_all_features = np.hstack((x_train_stat, x_train_temp, x_train_spect))\n",
    "x_test_all_features = np.hstack((x_test_stat, x_test_temp, x_test_spect))\n",
    "ttt = [\"x_train_temp\", \"x_test_temp\", \"x_train_stat\", \"x_test_stat\", \"x_train_spect\", \"x_test_spect\",\n",
    "       \"x_train_stat_temp\", \"x_test_stat_temp\", \"x_train_stat_spect\", \"x_test_stat_spect\", \"x_train_temp_spect\",\n",
    "       \"x_test_temp_spect\", \"x_train_all_features\", \"x_test_all_features\"]\n",
    "t = [x_train_temp, x_test_temp, x_train_stat, x_test_stat, x_train_spect, x_test_spect,x_train_stat_temp, \n",
    "     x_test_stat_temp, x_train_stat_spect, x_test_stat_spect, x_train_temp_spect,x_test_temp_spect, \n",
    "     x_train_all_features, x_test_all_features]\n",
    "for i in range(0, 14, 2):\n",
    "    print(ttt[i])\n",
    "    knnclf(t[i], y_train, t[i+1], y_test)"
   ]
  },
  {
   "cell_type": "markdown",
   "id": "19f6e3d4",
   "metadata": {},
   "source": [
    "# Gamma"
   ]
  },
  {
   "cell_type": "code",
   "execution_count": 89,
   "id": "4f1d4d54",
   "metadata": {},
   "outputs": [
    {
     "name": "stdout",
     "output_type": "stream",
     "text": [
      "statical features extraction start\n",
      "Trail  0\n",
      "Trail  1000\n",
      "Trail  2000\n",
      "Trail  3000\n",
      "Trail  4000\n",
      "Trail  0\n",
      "statical features extraction complete\n",
      "temporal features extraction start\n",
      "Trail  0\n",
      "Trail  1000\n",
      "Trail  2000\n",
      "Trail  3000\n",
      "Trail  4000\n",
      "Trail  0\n",
      "temporal features extraction end\n",
      "spectral features extraction start\n",
      "Trail  0\n"
     ]
    },
    {
     "name": "stderr",
     "output_type": "stream",
     "text": [
      "C:\\Users\\97450\\OneDrive - Hamad bin Khalifa University\\Desktop\\Project\\Master_thesis_project\\OSF dataset\\Speech Decoding From EEG signals\\utils.py:135: VisibleDeprecationWarning: Creating an ndarray from ragged nested sequences (which is a list-or-tuple of lists-or-tuples-or ndarrays with different lengths or shapes) is deprecated. If you meant to do this, you must specify 'dtype=object' when creating the ndarray.\n",
      "  return np.array(output)\n"
     ]
    },
    {
     "name": "stdout",
     "output_type": "stream",
     "text": [
      "Trail  1000\n",
      "Trail  2000\n",
      "Trail  3000\n",
      "Trail  4000\n",
      "Trail  0\n",
      "spectral features extraction end\n"
     ]
    }
   ],
   "source": [
    "x_train_temp, x_test_temp, x_train_stat, x_test_stat, x_train_spect, x_test_spect = check_rythm(\"gamma\", x_train, y_train, x_test, y_test)\n",
    "def flatten_arr(testlist):\n",
    "    output = list()\n",
    "    for i in testlist:\n",
    "        if isinstance(i, float)==False and isinstance(i, int)==False:\n",
    "            output.extend(i)\n",
    "        else:\n",
    "            output.append(i)\n",
    "    return output\n",
    "x_train_spect = np.array([flatten_arr(feat) for feat in x_train_spect])\n",
    "x_test_spect = np.array([flatten_arr(feat) for feat in x_test_spect])"
   ]
  },
  {
   "cell_type": "code",
   "execution_count": 90,
   "id": "3cb94ffa",
   "metadata": {},
   "outputs": [
    {
     "name": "stdout",
     "output_type": "stream",
     "text": [
      "x_train_temp\n",
      "Accuracy: 0.712\n",
      "\n",
      " -------------Classification Report-------------\n",
      "\n",
      "              precision    recall  f1-score   support\n",
      "\n",
      "           0       0.68      0.67      0.67       150\n",
      "           1       0.66      0.69      0.68       150\n",
      "           2       0.77      0.72      0.74       150\n",
      "           3       0.70      0.77      0.73       150\n",
      "           4       0.76      0.71      0.74       150\n",
      "\n",
      "   micro avg       0.71      0.71      0.71       750\n",
      "   macro avg       0.71      0.71      0.71       750\n",
      "weighted avg       0.71      0.71      0.71       750\n",
      " samples avg       0.71      0.71      0.71       750\n",
      "\n",
      "x_train_stat\n",
      "Accuracy: 0.5533333333333333\n",
      "\n",
      " -------------Classification Report-------------\n",
      "\n",
      "              precision    recall  f1-score   support\n",
      "\n",
      "           0       0.55      0.58      0.56       150\n",
      "           1       0.50      0.53      0.51       150\n",
      "           2       0.59      0.52      0.55       150\n",
      "           3       0.52      0.52      0.52       150\n",
      "           4       0.62      0.62      0.62       150\n",
      "\n",
      "   micro avg       0.55      0.55      0.55       750\n",
      "   macro avg       0.55      0.55      0.55       750\n",
      "weighted avg       0.55      0.55      0.55       750\n",
      " samples avg       0.55      0.55      0.55       750\n",
      "\n",
      "x_train_spect\n",
      "Accuracy: 0.4266666666666667\n",
      "\n",
      " -------------Classification Report-------------\n",
      "\n",
      "              precision    recall  f1-score   support\n",
      "\n",
      "           0       0.45      0.47      0.46       150\n",
      "           1       0.39      0.42      0.41       150\n",
      "           2       0.43      0.42      0.42       150\n",
      "           3       0.41      0.39      0.40       150\n",
      "           4       0.45      0.43      0.44       150\n",
      "\n",
      "   micro avg       0.43      0.43      0.43       750\n",
      "   macro avg       0.43      0.43      0.43       750\n",
      "weighted avg       0.43      0.43      0.43       750\n",
      " samples avg       0.43      0.43      0.43       750\n",
      "\n",
      "x_train_stat_temp\n",
      "Accuracy: 0.7146666666666667\n",
      "\n",
      " -------------Classification Report-------------\n",
      "\n",
      "              precision    recall  f1-score   support\n",
      "\n",
      "           0       0.68      0.68      0.68       150\n",
      "           1       0.66      0.69      0.68       150\n",
      "           2       0.77      0.72      0.74       150\n",
      "           3       0.71      0.77      0.73       150\n",
      "           4       0.76      0.71      0.74       150\n",
      "\n",
      "   micro avg       0.71      0.71      0.71       750\n",
      "   macro avg       0.72      0.71      0.72       750\n",
      "weighted avg       0.72      0.71      0.72       750\n",
      " samples avg       0.71      0.71      0.71       750\n",
      "\n",
      "x_train_stat_spect\n",
      "Accuracy: 0.4266666666666667\n",
      "\n",
      " -------------Classification Report-------------\n",
      "\n",
      "              precision    recall  f1-score   support\n",
      "\n",
      "           0       0.45      0.47      0.46       150\n",
      "           1       0.39      0.42      0.41       150\n",
      "           2       0.43      0.42      0.42       150\n",
      "           3       0.41      0.39      0.40       150\n",
      "           4       0.45      0.43      0.44       150\n",
      "\n",
      "   micro avg       0.43      0.43      0.43       750\n",
      "   macro avg       0.43      0.43      0.43       750\n",
      "weighted avg       0.43      0.43      0.43       750\n",
      " samples avg       0.43      0.43      0.43       750\n",
      "\n",
      "x_train_temp_spect\n",
      "Accuracy: 0.4266666666666667\n",
      "\n",
      " -------------Classification Report-------------\n",
      "\n",
      "              precision    recall  f1-score   support\n",
      "\n",
      "           0       0.45      0.47      0.46       150\n",
      "           1       0.39      0.42      0.41       150\n",
      "           2       0.43      0.42      0.42       150\n",
      "           3       0.41      0.39      0.40       150\n",
      "           4       0.45      0.43      0.44       150\n",
      "\n",
      "   micro avg       0.43      0.43      0.43       750\n",
      "   macro avg       0.43      0.43      0.43       750\n",
      "weighted avg       0.43      0.43      0.43       750\n",
      " samples avg       0.43      0.43      0.43       750\n",
      "\n",
      "x_train_all_features\n",
      "Accuracy: 0.4266666666666667\n",
      "\n",
      " -------------Classification Report-------------\n",
      "\n",
      "              precision    recall  f1-score   support\n",
      "\n",
      "           0       0.45      0.47      0.46       150\n",
      "           1       0.39      0.42      0.41       150\n",
      "           2       0.43      0.42      0.42       150\n",
      "           3       0.41      0.39      0.40       150\n",
      "           4       0.45      0.43      0.44       150\n",
      "\n",
      "   micro avg       0.43      0.43      0.43       750\n",
      "   macro avg       0.43      0.43      0.43       750\n",
      "weighted avg       0.43      0.43      0.43       750\n",
      " samples avg       0.43      0.43      0.43       750\n",
      "\n"
     ]
    }
   ],
   "source": [
    "x_train_stat_temp = np.hstack((x_train_stat, x_train_temp))\n",
    "x_test_stat_temp = np.hstack((x_test_stat, x_test_temp))\n",
    "x_train_stat_spect = np.hstack((x_train_stat, x_train_spect))\n",
    "x_test_stat_spect = np.hstack((x_test_stat, x_test_spect))\n",
    "x_train_temp_spect = np.hstack((x_train_temp, x_train_spect))\n",
    "x_test_temp_spect = np.hstack((x_test_temp, x_test_spect))\n",
    "x_train_all_features = np.hstack((x_train_stat, x_train_temp, x_train_spect))\n",
    "x_test_all_features = np.hstack((x_test_stat, x_test_temp, x_test_spect))\n",
    "ttt = [\"x_train_temp\", \"x_test_temp\", \"x_train_stat\", \"x_test_stat\", \"x_train_spect\", \"x_test_spect\",\n",
    "       \"x_train_stat_temp\", \"x_test_stat_temp\", \"x_train_stat_spect\", \"x_test_stat_spect\", \"x_train_temp_spect\",\n",
    "       \"x_test_temp_spect\", \"x_train_all_features\", \"x_test_all_features\"]\n",
    "t = [x_train_temp, x_test_temp, x_train_stat, x_test_stat, x_train_spect, x_test_spect,x_train_stat_temp, \n",
    "     x_test_stat_temp, x_train_stat_spect, x_test_stat_spect, x_train_temp_spect,x_test_temp_spect, \n",
    "     x_train_all_features, x_test_all_features]\n",
    "for i in range(0, 14, 2):\n",
    "    print(ttt[i])\n",
    "    knnclf(t[i], y_train, t[i+1], y_test)"
   ]
  },
  {
   "cell_type": "code",
   "execution_count": 6,
   "id": "e7a52a39",
   "metadata": {},
   "outputs": [
    {
     "name": "stdout",
     "output_type": "stream",
     "text": [
      "statical features extraction start\n",
      "Trail  0\n",
      "Trail  1000\n",
      "Trail  2000\n",
      "Trail  3000\n",
      "Trail  4000\n",
      "Trail  0\n",
      "statical features extraction complete\n",
      "temporal features extraction start\n",
      "Trail  0\n",
      "Trail  1000\n",
      "Trail  2000\n",
      "Trail  3000\n",
      "Trail  4000\n",
      "Trail  0\n",
      "temporal features extraction end\n",
      "spectral features extraction start\n",
      "Trail  0\n"
     ]
    },
    {
     "name": "stderr",
     "output_type": "stream",
     "text": [
      "C:\\Users\\97450\\OneDrive - Hamad bin Khalifa University\\Desktop\\Project\\Master_thesis_project\\OSF dataset\\Speech Decoding From EEG signals\\utils.py:135: VisibleDeprecationWarning: Creating an ndarray from ragged nested sequences (which is a list-or-tuple of lists-or-tuples-or ndarrays with different lengths or shapes) is deprecated. If you meant to do this, you must specify 'dtype=object' when creating the ndarray.\n",
      "  return np.array(output)\n"
     ]
    },
    {
     "name": "stdout",
     "output_type": "stream",
     "text": [
      "Trail  1000\n",
      "Trail  2000\n",
      "Trail  3000\n",
      "Trail  4000\n",
      "Trail  0\n",
      "spectral features extraction end\n"
     ]
    }
   ],
   "source": [
    "x_train_temp, x_test_temp, x_train_stat, x_test_stat, x_train_spect, x_test_spect = check_rythm(\"gamma\", x_train, y_train, x_test, y_test)\n",
    "def flatten_arr(testlist):\n",
    "    output = list()\n",
    "    for i in testlist:\n",
    "        if isinstance(i, float)==False and isinstance(i, int)==False:\n",
    "            output.extend(i)\n",
    "        else:\n",
    "            output.append(i)\n",
    "    return output\n",
    "x_train_spect = np.array([flatten_arr(feat) for feat in x_train_spect])\n",
    "x_test_spect = np.array([flatten_arr(feat) for feat in x_test_spect])"
   ]
  },
  {
   "cell_type": "code",
   "execution_count": 117,
   "id": "0f1a4781",
   "metadata": {},
   "outputs": [],
   "source": [
    "from sklearn.neighbors import KNeighborsClassifier\n",
    "from sklearn.metrics import accuracy_score, confusion_matrix"
   ]
  },
  {
   "cell_type": "code",
   "execution_count": 8,
   "id": "b8f689a3",
   "metadata": {},
   "outputs": [],
   "source": [
    "def model(x_train, y_train, x_test, y_test):\n",
    "    kclf = KNeighborsClassifier(n_neighbors=1)\n",
    "    kclf.fit(x_train, y_train)\n",
    "    y_pred = kclf.predict(x_test)\n",
    "    return accuracy_score(y_test, y_pred)"
   ]
  },
  {
   "cell_type": "code",
   "execution_count": 50,
   "id": "a1183ded",
   "metadata": {},
   "outputs": [],
   "source": [
    "def channel_selection(train, ytrain, test, ytest):\n",
    "    channel = []\n",
    "    acccc = []\n",
    "    tempfeatures, vtemp = train, test\n",
    "    total_feature = train.shape[1]\n",
    "    feature_per_channel = total_feature//64\n",
    "    for i in range(0, total_feature, feature_per_channel):\n",
    "        acc = model(tempfeatures[:,i:i+feature_per_channel], ytrain, vtemp[:,i:i+feature_per_channel], ytest)\n",
    "        if i!=0:\n",
    "            channel.append(i//feature_per_channel)\n",
    "        else: \n",
    "            channel.append(i)\n",
    "        acccc.append(acc)\n",
    "    channel__ = [ch for ch, a in zip(channel, acccc) if a>=np.mean(acccc)]\n",
    "    ch_names = [channels_names[i] for i in channel__]\n",
    "    print(f\"Top channel : {len(channel__)} \\n {ch_names}\")\n",
    "    \n",
    "#     tempfeatures, vtemp = train, test\n",
    "    temp, vtem = [], []\n",
    "    for ch1 in tempfeatures:\n",
    "        newtemp = []\n",
    "        for i in range(0, total_feature, feature_per_channel):\n",
    "            if i!=0:\n",
    "                if i//feature_per_channel in channel__:\n",
    "                    newtemp.extend(ch1[i:i+feature_per_channel])\n",
    "        temp.append(newtemp)\n",
    "\n",
    "    for ch2 in vtemp:\n",
    "        newvtem = []\n",
    "        for i in range(0, total_feature, feature_per_channel):\n",
    "            if i!=0:\n",
    "                if i//feature_per_channel in channel__:\n",
    "                    newvtem.extend(ch2[i:i+feature_per_channel])\n",
    "        vtem.append(newvtem)\n",
    "    temp, vtem = np.asarray(temp), np.asarray(vtem)\n",
    "    knnclf(temp, ytrain, vtem, ytest)"
   ]
  },
  {
   "cell_type": "markdown",
   "id": "8d5d3f78",
   "metadata": {},
   "source": [
    "# Temporal Features"
   ]
  },
  {
   "cell_type": "code",
   "execution_count": 51,
   "id": "dbd7d7de",
   "metadata": {},
   "outputs": [
    {
     "name": "stdout",
     "output_type": "stream",
     "text": [
      "Top channel : 31 \n",
      " ['F7', 'F4', 'FC5', 'FC1', 'FC2', 'T7', 'C3', 'T8', 'TP9', 'CP1', 'CP2', 'P7', 'Pz', 'PO9', 'Oz', 'PO10', 'AF3', 'AF4', 'AF8', 'F1', 'F2', 'F6', 'FC3', 'FC4', 'C2', 'C6', 'CP3', 'CP4', 'TP8', 'PO7', 'PO4']\n",
      "Accuracy: 0.7186666666666667\n",
      "\n",
      " -------------Classification Report-------------\n",
      "\n",
      "              precision    recall  f1-score   support\n",
      "\n",
      "           0       0.69      0.70      0.70       150\n",
      "           1       0.70      0.70      0.70       150\n",
      "           2       0.78      0.79      0.78       150\n",
      "           3       0.70      0.73      0.71       150\n",
      "           4       0.71      0.68      0.70       150\n",
      "\n",
      "   micro avg       0.72      0.72      0.72       750\n",
      "   macro avg       0.72      0.72      0.72       750\n",
      "weighted avg       0.72      0.72      0.72       750\n",
      " samples avg       0.72      0.72      0.72       750\n",
      "\n"
     ]
    }
   ],
   "source": [
    "channel_selection(x_train_temp, y_train,  x_test_temp, y_test)"
   ]
  },
  {
   "cell_type": "markdown",
   "id": "1a5974c9",
   "metadata": {},
   "source": [
    "# Statistical Features"
   ]
  },
  {
   "cell_type": "code",
   "execution_count": 52,
   "id": "4cde18c6",
   "metadata": {},
   "outputs": [
    {
     "name": "stdout",
     "output_type": "stream",
     "text": [
      "Top channel : 29 \n",
      " ['Fp1', 'Fp2', 'F3', 'F8', 'FC5', 'C4', 'T8', 'TP9', 'CP6', 'TP10', 'P7', 'P8', 'PO9', 'Oz', 'AF4', 'F1', 'F6', 'FT7', 'FC4', 'FT10', 'C5', 'C2', 'C6', 'TP7', 'CP4', 'TP8', 'P5', 'P6', 'PO8']\n",
      "Accuracy: 0.536\n",
      "\n",
      " -------------Classification Report-------------\n",
      "\n",
      "              precision    recall  f1-score   support\n",
      "\n",
      "           0       0.53      0.57      0.55       150\n",
      "           1       0.49      0.53      0.51       150\n",
      "           2       0.55      0.51      0.53       150\n",
      "           3       0.51      0.49      0.50       150\n",
      "           4       0.61      0.57      0.59       150\n",
      "\n",
      "   micro avg       0.54      0.54      0.54       750\n",
      "   macro avg       0.54      0.54      0.54       750\n",
      "weighted avg       0.54      0.54      0.54       750\n",
      " samples avg       0.54      0.54      0.54       750\n",
      "\n"
     ]
    }
   ],
   "source": [
    "channel_selection(x_train_stat, y_train,  x_test_stat, y_test)"
   ]
  },
  {
   "cell_type": "markdown",
   "id": "540baa70",
   "metadata": {},
   "source": [
    "# Spectrals features"
   ]
  },
  {
   "cell_type": "code",
   "execution_count": 62,
   "id": "7e316fa6",
   "metadata": {},
   "outputs": [
    {
     "name": "stdout",
     "output_type": "stream",
     "text": [
      "Top channel : 31 \n",
      " ['Fp2', 'F7', 'Fz', 'F4', 'FC6', 'T7', 'C4', 'T8', 'TP9', 'CP5', 'P7', 'P3', 'Pz', 'PO9', 'Oz', 'O2', 'PO10', 'AF7', 'F1', 'F2', 'F6', 'FT9', 'FC4', 'FT8', 'FT10', 'C5', 'C2', 'C6', 'P1', 'P2', 'PO7']\n",
      "Accuracy: 0.396\n",
      "\n",
      " -------------Classification Report-------------\n",
      "\n",
      "              precision    recall  f1-score   support\n",
      "\n",
      "           0       0.43      0.43      0.43       150\n",
      "           1       0.37      0.44      0.40       150\n",
      "           2       0.39      0.37      0.38       150\n",
      "           3       0.39      0.39      0.39       150\n",
      "           4       0.40      0.35      0.37       150\n",
      "\n",
      "   micro avg       0.40      0.40      0.40       750\n",
      "   macro avg       0.40      0.40      0.40       750\n",
      "weighted avg       0.40      0.40      0.40       750\n",
      " samples avg       0.40      0.40      0.40       750\n",
      "\n"
     ]
    }
   ],
   "source": [
    "channel_selection(x_train_spect, y_train,  x_test_spect, y_test)"
   ]
  },
  {
   "cell_type": "code",
   "execution_count": 54,
   "id": "dbf7f212",
   "metadata": {},
   "outputs": [],
   "source": [
    "x_train_stat_temp = np.hstack((x_train_stat, x_train_temp))\n",
    "x_test_stat_temp = np.hstack((x_test_stat, x_test_temp))\n",
    "x_train_stat_spect = np.hstack((x_train_stat, x_train_spect))\n",
    "x_test_stat_spect = np.hstack((x_test_stat, x_test_spect))\n",
    "x_train_temp_spect = np.hstack((x_train_temp, x_train_spect))\n",
    "x_test_temp_spect = np.hstack((x_test_temp, x_test_spect))\n",
    "x_train_all_features = np.hstack((x_train_stat, x_train_temp, x_train_spect))\n",
    "x_test_all_features = np.hstack((x_test_stat, x_test_temp, x_test_spect))"
   ]
  },
  {
   "cell_type": "markdown",
   "id": "28354fca",
   "metadata": {},
   "source": [
    "# stat_temp features"
   ]
  },
  {
   "cell_type": "code",
   "execution_count": 55,
   "id": "c9c307be",
   "metadata": {},
   "outputs": [
    {
     "name": "stdout",
     "output_type": "stream",
     "text": [
      "Top channel : 16 \n",
      " ['C2', 'C6', 'TP7', 'CP3', 'CPz', 'CP4', 'TP8', 'P5', 'P1', 'P2', 'P6', 'PO7', 'PO3', 'POz', 'PO4', 'PO8']\n",
      "Accuracy: 0.7186666666666667\n",
      "\n",
      " -------------Classification Report-------------\n",
      "\n",
      "              precision    recall  f1-score   support\n",
      "\n",
      "           0       0.70      0.67      0.69       150\n",
      "           1       0.66      0.71      0.68       150\n",
      "           2       0.79      0.73      0.76       150\n",
      "           3       0.71      0.78      0.74       150\n",
      "           4       0.75      0.70      0.72       150\n",
      "\n",
      "   micro avg       0.72      0.72      0.72       750\n",
      "   macro avg       0.72      0.72      0.72       750\n",
      "weighted avg       0.72      0.72      0.72       750\n",
      " samples avg       0.72      0.72      0.72       750\n",
      "\n"
     ]
    }
   ],
   "source": [
    "channel_selection(x_train_stat_temp, y_train,  x_test_stat_temp, y_test)"
   ]
  },
  {
   "cell_type": "markdown",
   "id": "458e30d8",
   "metadata": {},
   "source": [
    "# stat_spect features"
   ]
  },
  {
   "cell_type": "code",
   "execution_count": 56,
   "id": "b4038a22",
   "metadata": {},
   "outputs": [
    {
     "name": "stdout",
     "output_type": "stream",
     "text": [
      "Top channel : 11 \n",
      " ['Fp1', 'Fp2', 'F7', 'F3', 'Fz', 'F4', 'F8', 'FC1', 'P8', 'AF4', 'TP7']\n",
      "Accuracy: 0.24\n",
      "\n",
      " -------------Classification Report-------------\n",
      "\n",
      "              precision    recall  f1-score   support\n",
      "\n",
      "           0       0.24      0.27      0.25       150\n",
      "           1       0.25      0.24      0.24       150\n",
      "           2       0.25      0.26      0.26       150\n",
      "           3       0.20      0.18      0.19       150\n",
      "           4       0.25      0.25      0.25       150\n",
      "\n",
      "   micro avg       0.24      0.24      0.24       750\n",
      "   macro avg       0.24      0.24      0.24       750\n",
      "weighted avg       0.24      0.24      0.24       750\n",
      " samples avg       0.24      0.24      0.24       750\n",
      "\n"
     ]
    }
   ],
   "source": [
    "channel_selection(x_train_stat_spect, y_train,  x_test_stat_spect, y_test)"
   ]
  },
  {
   "cell_type": "markdown",
   "id": "8474dbaa",
   "metadata": {},
   "source": [
    "# Temp_spect feature"
   ]
  },
  {
   "cell_type": "code",
   "execution_count": 57,
   "id": "d958670e",
   "metadata": {},
   "outputs": [
    {
     "name": "stdout",
     "output_type": "stream",
     "text": [
      "Top channel : 8 \n",
      " ['Fp1', 'Fp2', 'F3', 'CP5', 'P3', 'PO10', 'AF7', 'C6']\n",
      "Accuracy: 0.28\n",
      "\n",
      " -------------Classification Report-------------\n",
      "\n",
      "              precision    recall  f1-score   support\n",
      "\n",
      "           0       0.33      0.37      0.35       150\n",
      "           1       0.30      0.25      0.27       150\n",
      "           2       0.27      0.27      0.27       150\n",
      "           3       0.23      0.23      0.23       150\n",
      "           4       0.27      0.27      0.27       150\n",
      "\n",
      "   micro avg       0.28      0.28      0.28       750\n",
      "   macro avg       0.28      0.28      0.28       750\n",
      "weighted avg       0.28      0.28      0.28       750\n",
      " samples avg       0.28      0.28      0.28       750\n",
      "\n"
     ]
    }
   ],
   "source": [
    "channel_selection(x_train_temp_spect, y_train,  x_test_temp_spect, y_test)"
   ]
  },
  {
   "cell_type": "markdown",
   "id": "5656c4cb",
   "metadata": {},
   "source": [
    "# All spect, temp and stat feature"
   ]
  },
  {
   "cell_type": "code",
   "execution_count": 59,
   "id": "f8dde1f4",
   "metadata": {},
   "outputs": [
    {
     "name": "stdout",
     "output_type": "stream",
     "text": [
      "Top channel : 10 \n",
      " ['Fp1', 'Fp2', 'F7', 'F3', 'Fz', 'F4', 'F8', 'FC5', 'FC1', 'AF8']\n",
      "Accuracy: 0.23466666666666666\n",
      "\n",
      " -------------Classification Report-------------\n",
      "\n",
      "              precision    recall  f1-score   support\n",
      "\n",
      "           0       0.23      0.23      0.23       150\n",
      "           1       0.31      0.30      0.31       150\n",
      "           2       0.21      0.19      0.20       150\n",
      "           3       0.20      0.23      0.21       150\n",
      "           4       0.23      0.23      0.23       150\n",
      "\n",
      "   micro avg       0.23      0.23      0.23       750\n",
      "   macro avg       0.24      0.23      0.23       750\n",
      "weighted avg       0.24      0.23      0.23       750\n",
      " samples avg       0.23      0.23      0.23       750\n",
      "\n"
     ]
    }
   ],
   "source": [
    "channel_selection(x_train_all_features, y_train,  x_test_all_features, y_test)"
   ]
  },
  {
   "cell_type": "code",
   "execution_count": 77,
   "id": "18ad7d34",
   "metadata": {},
   "outputs": [],
   "source": [
    " def forward(train, ytrain, test, ytest):\n",
    "    total_feature = train.shape[1]\n",
    "    feature_per_channel = total_feature//64\n",
    "    channel = [0]\n",
    "    tempfeatures, vtemp = train[:,0:feature_per_channel], test[:, 0:feature_per_channel]\n",
    "    for i in range(0, total_feature, feature_per_channel):\n",
    "        if i==0:\n",
    "            cuacc = model(tempfeatures, ytrain, vtemp, ytest)\n",
    "            preacc = cuacc\n",
    "        else:\n",
    "            temppp = [np.concatenate((tempf, fff), axis=None) for tempf, fff in zip(tempfeatures, train[:,i:i+feature_per_channel])]\n",
    "            vtemppp = [np.concatenate((tempf, fff), axis=None) for tempf, fff in zip(vtemp, test[:,i:i+feature_per_channel])]\n",
    "            cuacc = model(temppp, ytrain, vtemppp, ytest)\n",
    "#             print('current accuracy: '+str(cuacc))\n",
    "            if cuacc>preacc:\n",
    "                preacc = cuacc\n",
    "                tempfeatures = temppp\n",
    "                vtemp = vtemppp\n",
    "                channel.append(i//feature_per_channel)\n",
    "#                 print('previous accuracy: '+str(preacc))\n",
    "                #print('added '+str(channel_names[i//feature_per_channel]))\n",
    "    ch_names = [channels_names[i] for i in channel]\n",
    "    print(f\"Top channel : {len(channel)} \\n {ch_names}\")\n",
    "    knnclf(tempfeatures, ytrain, vtemp, ytest)"
   ]
  },
  {
   "cell_type": "markdown",
   "id": "ed9f6b0f",
   "metadata": {},
   "source": [
    "# Temporal Features"
   ]
  },
  {
   "cell_type": "code",
   "execution_count": 78,
   "id": "cb209101",
   "metadata": {},
   "outputs": [
    {
     "name": "stdout",
     "output_type": "stream",
     "text": [
      "Top channel : 38 \n",
      " ['Fp1', 'Fp2', 'F7', 'F3', 'Fz', 'F4', 'F8', 'FC5', 'FC1', 'FC2', 'FC6', 'T7', 'C3', 'Cz', 'C4', 'T8', 'TP9', 'CP5', 'CP1', 'CP6', 'TP10', 'P7', 'PO9', 'O1', 'AF4', 'AF8', 'F1', 'FT9', 'FC4', 'FT8', 'FT10', 'C6', 'CP3', 'CPz', 'CP4', 'P6', 'PO7', 'PO3']\n",
      "Accuracy: 0.7386666666666667\n",
      "\n",
      " -------------Classification Report-------------\n",
      "\n",
      "              precision    recall  f1-score   support\n",
      "\n",
      "           0       0.75      0.75      0.75       150\n",
      "           1       0.67      0.71      0.69       150\n",
      "           2       0.78      0.77      0.77       150\n",
      "           3       0.73      0.77      0.75       150\n",
      "           4       0.77      0.70      0.73       150\n",
      "\n",
      "   micro avg       0.74      0.74      0.74       750\n",
      "   macro avg       0.74      0.74      0.74       750\n",
      "weighted avg       0.74      0.74      0.74       750\n",
      " samples avg       0.74      0.74      0.74       750\n",
      "\n"
     ]
    }
   ],
   "source": [
    "forward(x_train_temp, y_train,  x_test_temp, y_test)"
   ]
  },
  {
   "cell_type": "markdown",
   "id": "9a90e67b",
   "metadata": {},
   "source": [
    "# Statistical Features"
   ]
  },
  {
   "cell_type": "code",
   "execution_count": 79,
   "id": "fafd4a1a",
   "metadata": {},
   "outputs": [
    {
     "name": "stdout",
     "output_type": "stream",
     "text": [
      "Top channel : 29 \n",
      " ['Fp1', 'Fp2', 'F7', 'F3', 'Fz', 'F4', 'FC5', 'FC1', 'FC2', 'C3', 'C4', 'T8', 'TP9', 'CP2', 'CP6', 'P7', 'P3', 'Pz', 'Oz', 'PO10', 'AF3', 'AF4', 'F1', 'F2', 'FT7', 'FC3', 'FC4', 'C2', 'P5']\n",
      "Accuracy: 0.544\n",
      "\n",
      " -------------Classification Report-------------\n",
      "\n",
      "              precision    recall  f1-score   support\n",
      "\n",
      "           0       0.52      0.53      0.52       150\n",
      "           1       0.50      0.53      0.51       150\n",
      "           2       0.63      0.50      0.56       150\n",
      "           3       0.52      0.56      0.54       150\n",
      "           4       0.58      0.59      0.59       150\n",
      "\n",
      "   micro avg       0.54      0.54      0.54       750\n",
      "   macro avg       0.55      0.54      0.54       750\n",
      "weighted avg       0.55      0.54      0.54       750\n",
      " samples avg       0.54      0.54      0.54       750\n",
      "\n"
     ]
    }
   ],
   "source": [
    "forward(x_train_stat, y_train,  x_test_stat, y_test)"
   ]
  },
  {
   "cell_type": "markdown",
   "id": "71eee1e4",
   "metadata": {},
   "source": [
    "# Spectrals features"
   ]
  },
  {
   "cell_type": "code",
   "execution_count": 80,
   "id": "c2fd995c",
   "metadata": {},
   "outputs": [
    {
     "name": "stdout",
     "output_type": "stream",
     "text": [
      "Top channel : 24 \n",
      " ['Fp1', 'Fp2', 'FC5', 'C3', 'Cz', 'TP9', 'Pz', 'O1', 'AF7', 'AF3', 'AF4', 'AF8', 'F5', 'F2', 'FT9', 'FT7', 'FC3', 'FT8', 'FT10', 'CP4', 'TP8', 'P5', 'P1', 'PO8']\n",
      "Accuracy: 0.39866666666666667\n",
      "\n",
      " -------------Classification Report-------------\n",
      "\n",
      "              precision    recall  f1-score   support\n",
      "\n",
      "           0       0.44      0.47      0.45       150\n",
      "           1       0.34      0.35      0.34       150\n",
      "           2       0.38      0.35      0.36       150\n",
      "           3       0.42      0.42      0.42       150\n",
      "           4       0.42      0.41      0.42       150\n",
      "\n",
      "   micro avg       0.40      0.40      0.40       750\n",
      "   macro avg       0.40      0.40      0.40       750\n",
      "weighted avg       0.40      0.40      0.40       750\n",
      " samples avg       0.40      0.40      0.40       750\n",
      "\n"
     ]
    }
   ],
   "source": [
    "forward(x_train_spect, y_train,  x_test_spect, y_test)"
   ]
  },
  {
   "cell_type": "markdown",
   "id": "b93bd873",
   "metadata": {},
   "source": [
    "# stat_temp features"
   ]
  },
  {
   "cell_type": "code",
   "execution_count": 81,
   "id": "65088f3b",
   "metadata": {},
   "outputs": [
    {
     "name": "stdout",
     "output_type": "stream",
     "text": [
      "Top channel : 23 \n",
      " ['Fp1', 'Fp2', 'F7', 'F3', 'F4', 'F8', 'FC5', 'FC1', 'FC2', 'T7', 'C3', 'Cz', 'T8', 'TP9', 'CP1', 'CP6', 'P3', 'P4', 'FT7', 'FC3', 'FC4', 'FT8', 'FT10']\n",
      "Accuracy: 0.5653333333333334\n",
      "\n",
      " -------------Classification Report-------------\n",
      "\n",
      "              precision    recall  f1-score   support\n",
      "\n",
      "           0       0.55      0.61      0.58       150\n",
      "           1       0.54      0.51      0.52       150\n",
      "           2       0.63      0.56      0.59       150\n",
      "           3       0.51      0.55      0.53       150\n",
      "           4       0.61      0.60      0.60       150\n",
      "\n",
      "   micro avg       0.57      0.57      0.57       750\n",
      "   macro avg       0.57      0.57      0.57       750\n",
      "weighted avg       0.57      0.57      0.57       750\n",
      " samples avg       0.57      0.57      0.57       750\n",
      "\n"
     ]
    }
   ],
   "source": [
    "forward(x_train_stat_temp, y_train,  x_test_stat_temp, y_test)"
   ]
  },
  {
   "cell_type": "markdown",
   "id": "0699b68c",
   "metadata": {},
   "source": [
    "# stat_spect features"
   ]
  },
  {
   "cell_type": "code",
   "execution_count": 82,
   "id": "08f21e81",
   "metadata": {},
   "outputs": [
    {
     "name": "stdout",
     "output_type": "stream",
     "text": [
      "Top channel : 7 \n",
      " ['Fp1', 'Fp2', 'F7', 'F3', 'Fz', 'F4', 'F8']\n",
      "Accuracy: 0.556\n",
      "\n",
      " -------------Classification Report-------------\n",
      "\n",
      "              precision    recall  f1-score   support\n",
      "\n",
      "           0       0.55      0.59      0.57       150\n",
      "           1       0.51      0.53      0.52       150\n",
      "           2       0.61      0.53      0.57       150\n",
      "           3       0.52      0.52      0.52       150\n",
      "           4       0.61      0.61      0.61       150\n",
      "\n",
      "   micro avg       0.56      0.56      0.56       750\n",
      "   macro avg       0.56      0.56      0.56       750\n",
      "weighted avg       0.56      0.56      0.56       750\n",
      " samples avg       0.56      0.56      0.56       750\n",
      "\n"
     ]
    }
   ],
   "source": [
    "forward(x_train_stat_spect, y_train,  x_test_stat_spect, y_test)"
   ]
  },
  {
   "cell_type": "markdown",
   "id": "c0c3ae72",
   "metadata": {},
   "source": [
    "# Temp_spect feature"
   ]
  },
  {
   "cell_type": "code",
   "execution_count": 83,
   "id": "ad8bdd33",
   "metadata": {},
   "outputs": [
    {
     "name": "stdout",
     "output_type": "stream",
     "text": [
      "Top channel : 2 \n",
      " ['Fp1', 'Fp2']\n",
      "Accuracy: 0.7\n",
      "\n",
      " -------------Classification Report-------------\n",
      "\n",
      "              precision    recall  f1-score   support\n",
      "\n",
      "           0       0.68      0.68      0.68       150\n",
      "           1       0.66      0.70      0.68       150\n",
      "           2       0.76      0.72      0.74       150\n",
      "           3       0.69      0.73      0.71       150\n",
      "           4       0.72      0.67      0.69       150\n",
      "\n",
      "   micro avg       0.70      0.70      0.70       750\n",
      "   macro avg       0.70      0.70      0.70       750\n",
      "weighted avg       0.70      0.70      0.70       750\n",
      " samples avg       0.70      0.70      0.70       750\n",
      "\n"
     ]
    }
   ],
   "source": [
    "forward(x_train_temp_spect, y_train,  x_test_temp_spect, y_test)"
   ]
  },
  {
   "cell_type": "markdown",
   "id": "34dc2920",
   "metadata": {},
   "source": [
    "# All spect, temp and stat feature"
   ]
  },
  {
   "cell_type": "code",
   "execution_count": 84,
   "id": "a56bd58a",
   "metadata": {},
   "outputs": [
    {
     "name": "stdout",
     "output_type": "stream",
     "text": [
      "Top channel : 9 \n",
      " ['Fp1', 'Fp2', 'F7', 'F3', 'Fz', 'F4', 'F8', 'FC5', 'FC1']\n",
      "Accuracy: 0.7106666666666667\n",
      "\n",
      " -------------Classification Report-------------\n",
      "\n",
      "              precision    recall  f1-score   support\n",
      "\n",
      "           0       0.68      0.68      0.68       150\n",
      "           1       0.67      0.69      0.68       150\n",
      "           2       0.76      0.73      0.75       150\n",
      "           3       0.70      0.76      0.73       150\n",
      "           4       0.74      0.69      0.71       150\n",
      "\n",
      "   micro avg       0.71      0.71      0.71       750\n",
      "   macro avg       0.71      0.71      0.71       750\n",
      "weighted avg       0.71      0.71      0.71       750\n",
      " samples avg       0.71      0.71      0.71       750\n",
      "\n"
     ]
    }
   ],
   "source": [
    "forward(x_train_all_features, y_train,  x_test_all_features, y_test)"
   ]
  },
  {
   "cell_type": "code",
   "execution_count": 98,
   "id": "dae48518",
   "metadata": {},
   "outputs": [],
   "source": [
    "def backward(train, ytrain, test, ytest):\n",
    "    total_feature = train.shape[1]\n",
    "    feature_per_channel = total_feature//64\n",
    "    channel = []\n",
    "    tempfeatures, vtemp = train, test\n",
    "    feature_size = total_feature - feature_per_channel\n",
    "    prev_acc = model(tempfeatures, ytrain, vtemp, ytest)\n",
    "    while feature_size>0:\n",
    "        aaa = [feature_size+i for i in range(feature_per_channel)]\n",
    "        temppp = np.delete(tempfeatures, aaa, axis=1)\n",
    "        vtemppp = np.delete(vtemp, aaa, axis=1)\n",
    "        cuacc = model(temppp, ytrain, vtemppp, ytest)\n",
    "#         print('current accuracy: '+str(cuacc))\n",
    "        if cuacc>=prev_acc:\n",
    "            tempfeatures = temppp\n",
    "            vtemp = vtemppp\n",
    "            channel.append(feature_size//feature_per_channel)\n",
    "#             print('previous accuracy: '+str(prev_acc))\n",
    "            prev_acc = cuacc\n",
    "            feature_size -=feature_per_channel\n",
    "        else:\n",
    "            feature_size -=feature_per_channel\n",
    "    ch_names = [channels_names[i] for i in channel]\n",
    "    print(f\"Top channel : {len(channel)} \\n {ch_names}\")\n",
    "    knnclf(tempfeatures, ytrain, vtemp, ytest)\n",
    "    return tempfeatures, vtemp"
   ]
  },
  {
   "cell_type": "markdown",
   "id": "b4e6f3d6",
   "metadata": {},
   "source": [
    "# Temporal Features"
   ]
  },
  {
   "cell_type": "code",
   "execution_count": 90,
   "id": "79cf0525",
   "metadata": {},
   "outputs": [
    {
     "name": "stdout",
     "output_type": "stream",
     "text": [
      "Top channel : 19 \n",
      " ['PO8', 'P6', 'P1', 'TP8', 'CP4', 'C6', 'C2', 'C1', 'FT7', 'F6', 'F5', 'AF3', 'AF7', 'O2', 'P8', 'Pz', 'P3', 'P7', 'F3']\n",
      "Accuracy: 0.752\n",
      "\n",
      " -------------Classification Report-------------\n",
      "\n",
      "              precision    recall  f1-score   support\n",
      "\n",
      "           0       0.75      0.77      0.76       150\n",
      "           1       0.70      0.72      0.71       150\n",
      "           2       0.80      0.78      0.79       150\n",
      "           3       0.74      0.77      0.76       150\n",
      "           4       0.78      0.72      0.75       150\n",
      "\n",
      "   micro avg       0.75      0.75      0.75       750\n",
      "   macro avg       0.75      0.75      0.75       750\n",
      "weighted avg       0.75      0.75      0.75       750\n",
      " samples avg       0.75      0.75      0.75       750\n",
      "\n"
     ]
    }
   ],
   "source": [
    "backward(x_train_temp, y_train,  x_test_temp, y_test)"
   ]
  },
  {
   "cell_type": "markdown",
   "id": "dc51f271",
   "metadata": {},
   "source": [
    "# Statistical "
   ]
  },
  {
   "cell_type": "code",
   "execution_count": 91,
   "id": "f04a04b0",
   "metadata": {},
   "outputs": [
    {
     "name": "stdout",
     "output_type": "stream",
     "text": [
      "Top channel : 16 \n",
      " ['PO8', 'POz', 'PO3', 'P6', 'P5', 'FT7', 'F6', 'F5', 'AF8', 'AF3', 'O2', 'P8', 'TP10', 'CP5', 'F8', 'F3']\n",
      "Accuracy: 0.616\n",
      "\n",
      " -------------Classification Report-------------\n",
      "\n",
      "              precision    recall  f1-score   support\n",
      "\n",
      "           0       0.62      0.65      0.63       150\n",
      "           1       0.58      0.58      0.58       150\n",
      "           2       0.65      0.64      0.64       150\n",
      "           3       0.58      0.56      0.57       150\n",
      "           4       0.65      0.65      0.65       150\n",
      "\n",
      "   micro avg       0.62      0.62      0.62       750\n",
      "   macro avg       0.62      0.62      0.62       750\n",
      "weighted avg       0.62      0.62      0.62       750\n",
      " samples avg       0.62      0.62      0.62       750\n",
      "\n"
     ]
    }
   ],
   "source": [
    "backward(x_train_stat, y_train,  x_test_stat, y_test)"
   ]
  },
  {
   "cell_type": "markdown",
   "id": "b717e453",
   "metadata": {},
   "source": [
    "# Spectral"
   ]
  },
  {
   "cell_type": "code",
   "execution_count": 92,
   "id": "4d943565",
   "metadata": {},
   "outputs": [
    {
     "name": "stdout",
     "output_type": "stream",
     "text": [
      "Top channel : 11 \n",
      " ['PO8', 'PO4', 'P6', 'P2', 'P5', 'TP8', 'TP7', 'FT10', 'F2', 'Pz', 'P3']\n",
      "Accuracy: 0.4493333333333333\n",
      "\n",
      " -------------Classification Report-------------\n",
      "\n",
      "              precision    recall  f1-score   support\n",
      "\n",
      "           0       0.49      0.47      0.48       150\n",
      "           1       0.43      0.45      0.44       150\n",
      "           2       0.47      0.45      0.46       150\n",
      "           3       0.41      0.44      0.43       150\n",
      "           4       0.46      0.45      0.45       150\n",
      "\n",
      "   micro avg       0.45      0.45      0.45       750\n",
      "   macro avg       0.45      0.45      0.45       750\n",
      "weighted avg       0.45      0.45      0.45       750\n",
      " samples avg       0.45      0.45      0.45       750\n",
      "\n"
     ]
    }
   ],
   "source": [
    "backward(x_train_spect, y_train,  x_test_spect, y_test)"
   ]
  },
  {
   "cell_type": "markdown",
   "id": "78580fd4",
   "metadata": {},
   "source": [
    "# stat_spect features"
   ]
  },
  {
   "cell_type": "code",
   "execution_count": 93,
   "id": "5622d1ff",
   "metadata": {},
   "outputs": [
    {
     "name": "stdout",
     "output_type": "stream",
     "text": [
      "Top channel : 19 \n",
      " ['PO8', 'PO4', 'P6', 'P2', 'P5', 'TP8', 'C6', 'FC4', 'O1', 'PO9', 'Pz', 'CP2', 'T8', 'F8', 'F4', 'Fz', 'F3', 'F7', 'Fp2']\n",
      "Accuracy: 0.44666666666666666\n",
      "\n",
      " -------------Classification Report-------------\n",
      "\n",
      "              precision    recall  f1-score   support\n",
      "\n",
      "           0       0.46      0.48      0.47       150\n",
      "           1       0.45      0.45      0.45       150\n",
      "           2       0.44      0.42      0.43       150\n",
      "           3       0.41      0.43      0.42       150\n",
      "           4       0.48      0.45      0.46       150\n",
      "\n",
      "   micro avg       0.45      0.45      0.45       750\n",
      "   macro avg       0.45      0.45      0.45       750\n",
      "weighted avg       0.45      0.45      0.45       750\n",
      " samples avg       0.45      0.45      0.45       750\n",
      "\n"
     ]
    }
   ],
   "source": [
    "backward(x_train_stat_spect, y_train,  x_test_stat_spect, y_test)"
   ]
  },
  {
   "cell_type": "markdown",
   "id": "e2104425",
   "metadata": {},
   "source": [
    "# Temp_spect feature"
   ]
  },
  {
   "cell_type": "code",
   "execution_count": 94,
   "id": "00a53a0a",
   "metadata": {},
   "outputs": [
    {
     "name": "stdout",
     "output_type": "stream",
     "text": [
      "Top channel : 11 \n",
      " ['PO8', 'PO4', 'PO3', 'P6', 'P2', 'P5', 'TP8', 'TP7', 'P8', 'Pz', 'TP9']\n",
      "Accuracy: 0.452\n",
      "\n",
      " -------------Classification Report-------------\n",
      "\n",
      "              precision    recall  f1-score   support\n",
      "\n",
      "           0       0.49      0.48      0.48       150\n",
      "           1       0.44      0.47      0.45       150\n",
      "           2       0.46      0.44      0.45       150\n",
      "           3       0.42      0.42      0.42       150\n",
      "           4       0.46      0.45      0.46       150\n",
      "\n",
      "   micro avg       0.45      0.45      0.45       750\n",
      "   macro avg       0.45      0.45      0.45       750\n",
      "weighted avg       0.45      0.45      0.45       750\n",
      " samples avg       0.45      0.45      0.45       750\n",
      "\n"
     ]
    }
   ],
   "source": [
    "backward(x_train_temp_spect, y_train,  x_test_temp_spect, y_test)"
   ]
  },
  {
   "cell_type": "markdown",
   "id": "c83a1b76",
   "metadata": {},
   "source": [
    "# Stat_Temp feature"
   ]
  },
  {
   "cell_type": "code",
   "execution_count": 95,
   "id": "77e781d0",
   "metadata": {},
   "outputs": [
    {
     "name": "stdout",
     "output_type": "stream",
     "text": [
      "Top channel : 47 \n",
      " ['PO8', 'P6', 'P5', 'C1', 'C5', 'FT10', 'FT8', 'FC4', 'FC3', 'FT7', 'FT9', 'F6', 'F2', 'F1', 'F5', 'AF8', 'AF3', 'AF7', 'PO10', 'O2', 'Oz', 'O1', 'P8', 'P4', 'Pz', 'P3', 'P7', 'TP10', 'CP2', 'CP1', 'CP5', 'TP9', 'T8', 'C4', 'Cz', 'C3', 'T7', 'FC6', 'FC2', 'FC1', 'FC5', 'F8', 'F4', 'Fz', 'F3', 'F7', 'Fp2']\n",
      "Accuracy: 0.7293333333333333\n",
      "\n",
      " -------------Classification Report-------------\n",
      "\n",
      "              precision    recall  f1-score   support\n",
      "\n",
      "           0       0.73      0.73      0.73       150\n",
      "           1       0.66      0.71      0.68       150\n",
      "           2       0.80      0.75      0.77       150\n",
      "           3       0.72      0.78      0.75       150\n",
      "           4       0.75      0.67      0.71       150\n",
      "\n",
      "   micro avg       0.73      0.73      0.73       750\n",
      "   macro avg       0.73      0.73      0.73       750\n",
      "weighted avg       0.73      0.73      0.73       750\n",
      " samples avg       0.73      0.73      0.73       750\n",
      "\n"
     ]
    }
   ],
   "source": [
    "backward(x_train_stat_temp, y_train,  x_test_stat_temp, y_test)"
   ]
  },
  {
   "cell_type": "markdown",
   "id": "c3d03729",
   "metadata": {},
   "source": [
    "# All Spect,temp, stat feature"
   ]
  },
  {
   "cell_type": "code",
   "execution_count": 96,
   "id": "2c66a6bd",
   "metadata": {},
   "outputs": [
    {
     "name": "stdout",
     "output_type": "stream",
     "text": [
      "Top channel : 19 \n",
      " ['PO8', 'PO4', 'PO3', 'P6', 'P1', 'P5', 'CPz', 'TP7', 'O2', 'Oz', 'TP10', 'FC1', 'FC5', 'F8', 'F4', 'Fz', 'F3', 'F7', 'Fp2']\n",
      "Accuracy: 0.45466666666666666\n",
      "\n",
      " -------------Classification Report-------------\n",
      "\n",
      "              precision    recall  f1-score   support\n",
      "\n",
      "           0       0.49      0.47      0.48       150\n",
      "           1       0.44      0.46      0.45       150\n",
      "           2       0.46      0.45      0.45       150\n",
      "           3       0.43      0.43      0.43       150\n",
      "           4       0.47      0.47      0.47       150\n",
      "\n",
      "   micro avg       0.45      0.45      0.45       750\n",
      "   macro avg       0.46      0.45      0.45       750\n",
      "weighted avg       0.46      0.45      0.45       750\n",
      " samples avg       0.45      0.45      0.45       750\n",
      "\n"
     ]
    }
   ],
   "source": [
    "backward(x_train_all_features, y_train,  x_test_all_features, y_test)"
   ]
  },
  {
   "cell_type": "code",
   "execution_count": 97,
   "id": "b5a787e5",
   "metadata": {},
   "outputs": [],
   "source": [
    "from sklearn.decomposition import PCA\n",
    "from sklearn.decomposition import KernelPCA"
   ]
  },
  {
   "cell_type": "code",
   "execution_count": 99,
   "id": "ffba114e",
   "metadata": {},
   "outputs": [
    {
     "name": "stdout",
     "output_type": "stream",
     "text": [
      "Top channel : 19 \n",
      " ['PO8', 'P6', 'P1', 'TP8', 'CP4', 'C6', 'C2', 'C1', 'FT7', 'F6', 'F5', 'AF3', 'AF7', 'O2', 'P8', 'Pz', 'P3', 'P7', 'F3']\n",
      "Accuracy: 0.752\n",
      "\n",
      " -------------Classification Report-------------\n",
      "\n",
      "              precision    recall  f1-score   support\n",
      "\n",
      "           0       0.75      0.77      0.76       150\n",
      "           1       0.70      0.72      0.71       150\n",
      "           2       0.80      0.78      0.79       150\n",
      "           3       0.74      0.77      0.76       150\n",
      "           4       0.78      0.72      0.75       150\n",
      "\n",
      "   micro avg       0.75      0.75      0.75       750\n",
      "   macro avg       0.75      0.75      0.75       750\n",
      "weighted avg       0.75      0.75      0.75       750\n",
      " samples avg       0.75      0.75      0.75       750\n",
      "\n"
     ]
    }
   ],
   "source": [
    "teamp_train, temp_test = backward(x_train_temp, y_train,  x_test_temp, y_test)"
   ]
  },
  {
   "cell_type": "code",
   "execution_count": 100,
   "id": "63cefb3d",
   "metadata": {},
   "outputs": [],
   "source": [
    "pcatempfeatures = teamp_train.tolist()\n",
    "pcatemp = temp_test.tolist()"
   ]
  },
  {
   "cell_type": "code",
   "execution_count": 120,
   "id": "85adc680",
   "metadata": {},
   "outputs": [],
   "source": [
    "data = pcatempfeatures\n",
    "data.extend(pcatemp)\n",
    "\n",
    "kpca = KernelPCA(n_components=60)\n",
    "kpca.fit(data)\n",
    "\n",
    "X = kpca.transform(teamp_train)\n",
    "\n",
    "vX = kpca.transform(temp_test)"
   ]
  },
  {
   "cell_type": "code",
   "execution_count": 130,
   "id": "c4720023",
   "metadata": {},
   "outputs": [
    {
     "name": "stdout",
     "output_type": "stream",
     "text": [
      "Accuracy: 0.7506666666666667\n",
      "\n",
      " -------------Classification Report-------------\n",
      "\n",
      "              precision    recall  f1-score   support\n",
      "\n",
      "           0       0.75      0.77      0.76       150\n",
      "           1       0.70      0.72      0.71       150\n",
      "           2       0.80      0.78      0.79       150\n",
      "           3       0.73      0.77      0.75       150\n",
      "           4       0.78      0.71      0.74       150\n",
      "\n",
      "   micro avg       0.75      0.75      0.75       750\n",
      "   macro avg       0.75      0.75      0.75       750\n",
      "weighted avg       0.75      0.75      0.75       750\n",
      " samples avg       0.75      0.75      0.75       750\n",
      "\n",
      "[[115  10   5  14   6]\n",
      " [ 17 108  11   5   9]\n",
      " [  5  11 117  12   5]\n",
      " [  7  13   3 116  11]\n",
      " [ 10  12  10  11 107]]\n"
     ]
    }
   ],
   "source": [
    "kclf = KNeighborsClassifier(n_neighbors=1)\n",
    "kclf.fit(X, y_train)\n",
    "y_pred = kclf.predict(vX)\n",
    "print(\"Accuracy:\", accuracy_score(y_test, y_pred))\n",
    "print(\"\\n -------------Classification Report-------------\\n\")\n",
    "print(classification_report(y_test, y_pred))\n",
    "print(confusion_matrix([np.argmax(a) for a in y_test], [np.argmax(j) for j in y_pred]))  "
   ]
  },
  {
   "cell_type": "markdown",
   "id": "1f815088",
   "metadata": {},
   "source": [
    "# Different machine learning algorithms "
   ]
  },
  {
   "cell_type": "code",
   "execution_count": 126,
   "id": "58d9c17d",
   "metadata": {},
   "outputs": [],
   "source": [
    "Ytrain = np.array([np.argmax(a) for a in y_train])\n",
    "Ytest = np.array([np.argmax(a) for a in y_test])"
   ]
  },
  {
   "cell_type": "code",
   "execution_count": 192,
   "id": "5be04055",
   "metadata": {},
   "outputs": [
    {
     "name": "stdout",
     "output_type": "stream",
     "text": [
      "Accuracy: 0.712\n",
      "\n",
      " -------------Classification Report-------------\n",
      "\n",
      "              precision    recall  f1-score   support\n",
      "\n",
      "           0       0.68      0.67      0.67       150\n",
      "           1       0.66      0.69      0.68       150\n",
      "           2       0.77      0.72      0.74       150\n",
      "           3       0.70      0.77      0.73       150\n",
      "           4       0.76      0.71      0.74       150\n",
      "\n",
      "   micro avg       0.71      0.71      0.71       750\n",
      "   macro avg       0.71      0.71      0.71       750\n",
      "weighted avg       0.71      0.71      0.71       750\n",
      " samples avg       0.71      0.71      0.71       750\n",
      "\n",
      "[[100  13   8  19  10]\n",
      " [ 19 104   9   8  10]\n",
      " [  8  14 108  15   5]\n",
      " [  9  13   5 115   8]\n",
      " [ 11  14  10   8 107]]\n"
     ]
    }
   ],
   "source": [
    "kclf = KNeighborsClassifier(n_neighbors=1)\n",
    "kclf.fit(x_train_temp, y_train)\n",
    "y_pred = kclf.predict(x_test_temp)\n",
    "print(\"Accuracy:\", accuracy_score(y_test, y_pred))\n",
    "print(\"\\n -------------Classification Report-------------\\n\")\n",
    "print(classification_report(y_test, y_pred))\n",
    "print(confusion_matrix([np.argmax(a) for a in y_test], [np.argmax(j) for j in y_pred]))"
   ]
  },
  {
   "cell_type": "code",
   "execution_count": null,
   "id": "3132c83a",
   "metadata": {},
   "outputs": [],
   "source": []
  },
  {
   "cell_type": "code",
   "execution_count": 177,
   "id": "08029e58",
   "metadata": {},
   "outputs": [
    {
     "name": "stdout",
     "output_type": "stream",
     "text": [
      "Accuracy: 0.26266666666666666\n",
      "\n",
      " -------------Classification Report-------------\n",
      "\n",
      "              precision    recall  f1-score   support\n",
      "\n",
      "           0       0.29      0.29      0.29       150\n",
      "           1       0.26      0.31      0.28       150\n",
      "           2       0.23      0.18      0.20       150\n",
      "           3       0.25      0.26      0.25       150\n",
      "           4       0.28      0.28      0.28       150\n",
      "\n",
      "    accuracy                           0.26       750\n",
      "   macro avg       0.26      0.26      0.26       750\n",
      "weighted avg       0.26      0.26      0.26       750\n",
      "\n",
      "[[43 34 23 27 23]\n",
      " [27 46 19 33 25]\n",
      " [25 31 27 26 41]\n",
      " [35 33 24 39 19]\n",
      " [20 33 22 33 42]]\n"
     ]
    },
    {
     "name": "stderr",
     "output_type": "stream",
     "text": [
      "C:\\Users\\97450\\anaconda3\\envs\\eeg\\lib\\site-packages\\sklearn\\linear_model\\_logistic.py:814: ConvergenceWarning: lbfgs failed to converge (status=1):\n",
      "STOP: TOTAL NO. of ITERATIONS REACHED LIMIT.\n",
      "\n",
      "Increase the number of iterations (max_iter) or scale the data as shown in:\n",
      "    https://scikit-learn.org/stable/modules/preprocessing.html\n",
      "Please also refer to the documentation for alternative solver options:\n",
      "    https://scikit-learn.org/stable/modules/linear_model.html#logistic-regression\n",
      "  n_iter_i = _check_optimize_result(\n"
     ]
    }
   ],
   "source": [
    "from sklearn.linear_model import LogisticRegression\n",
    "lrc = LogisticRegression()\n",
    "lrc.fit(teamp_train, Ytrain)\n",
    "y_pred = lrc.predict(temp_test)\n",
    "print(\"Accuracy:\", accuracy_score(Ytest, y_pred))\n",
    "print(\"\\n -------------Classification Report-------------\\n\")\n",
    "print(classification_report(Ytest, y_pred))\n",
    "print(confusion_matrix(Ytest, y_pred))  "
   ]
  },
  {
   "cell_type": "code",
   "execution_count": 178,
   "id": "fa10475b",
   "metadata": {},
   "outputs": [
    {
     "name": "stdout",
     "output_type": "stream",
     "text": [
      "Accuracy: 0.28\n",
      "\n",
      " -------------Classification Report-------------\n",
      "\n",
      "              precision    recall  f1-score   support\n",
      "\n",
      "           0       0.28      0.28      0.28       150\n",
      "           1       0.31      0.37      0.34       150\n",
      "           2       0.27      0.19      0.22       150\n",
      "           3       0.27      0.31      0.29       150\n",
      "           4       0.27      0.25      0.26       150\n",
      "\n",
      "    accuracy                           0.28       750\n",
      "   macro avg       0.28      0.28      0.28       750\n",
      "weighted avg       0.28      0.28      0.28       750\n",
      "\n",
      "[[42 32 22 32 22]\n",
      " [25 55 19 28 23]\n",
      " [22 32 29 26 41]\n",
      " [35 35 17 46 17]\n",
      " [27 24 22 39 38]]\n"
     ]
    },
    {
     "name": "stderr",
     "output_type": "stream",
     "text": [
      "C:\\Users\\97450\\anaconda3\\envs\\eeg\\lib\\site-packages\\sklearn\\linear_model\\_logistic.py:814: ConvergenceWarning: lbfgs failed to converge (status=1):\n",
      "STOP: TOTAL NO. of ITERATIONS REACHED LIMIT.\n",
      "\n",
      "Increase the number of iterations (max_iter) or scale the data as shown in:\n",
      "    https://scikit-learn.org/stable/modules/preprocessing.html\n",
      "Please also refer to the documentation for alternative solver options:\n",
      "    https://scikit-learn.org/stable/modules/linear_model.html#logistic-regression\n",
      "  n_iter_i = _check_optimize_result(\n"
     ]
    }
   ],
   "source": [
    "lrc.fit(x_train_temp, Ytrain)\n",
    "y_pred = lrc.predict(x_test_temp)\n",
    "print(\"Accuracy:\", accuracy_score(Ytest, y_pred))\n",
    "print(\"\\n -------------Classification Report-------------\\n\")\n",
    "print(classification_report(Ytest, y_pred))\n",
    "print(confusion_matrix(Ytest, y_pred))  "
   ]
  },
  {
   "cell_type": "code",
   "execution_count": 181,
   "id": "1a06783a",
   "metadata": {},
   "outputs": [
    {
     "name": "stdout",
     "output_type": "stream",
     "text": [
      "Accuracy: 0.31066666666666665\n",
      "\n",
      " -------------Classification Report-------------\n",
      "\n",
      "              precision    recall  f1-score   support\n",
      "\n",
      "           0       0.32      0.31      0.32       150\n",
      "           1       0.29      0.31      0.30       150\n",
      "           2       0.33      0.35      0.34       150\n",
      "           3       0.29      0.31      0.30       150\n",
      "           4       0.32      0.28      0.30       150\n",
      "\n",
      "    accuracy                           0.31       750\n",
      "   macro avg       0.31      0.31      0.31       750\n",
      "weighted avg       0.31      0.31      0.31       750\n",
      "\n",
      "[[47 28 23 32 20]\n",
      " [28 46 31 22 23]\n",
      " [21 23 52 31 23]\n",
      " [25 27 27 46 25]\n",
      " [25 32 24 27 42]]\n"
     ]
    }
   ],
   "source": [
    "from sklearn.tree import DecisionTreeClassifier\n",
    "lrc = DecisionTreeClassifier()\n",
    "lrc.fit(teamp_train, Ytrain)\n",
    "y_pred = lrc.predict(temp_test)\n",
    "print(\"Accuracy:\", accuracy_score(Ytest, y_pred))\n",
    "print(\"\\n -------------Classification Report-------------\\n\")\n",
    "print(classification_report(Ytest, y_pred))\n",
    "print(confusion_matrix(Ytest, y_pred))  "
   ]
  },
  {
   "cell_type": "code",
   "execution_count": 182,
   "id": "bc2d91d6",
   "metadata": {},
   "outputs": [
    {
     "name": "stdout",
     "output_type": "stream",
     "text": [
      "Accuracy: 0.3453333333333333\n",
      "\n",
      " -------------Classification Report-------------\n",
      "\n",
      "              precision    recall  f1-score   support\n",
      "\n",
      "           0       0.35      0.37      0.36       150\n",
      "           1       0.32      0.33      0.33       150\n",
      "           2       0.37      0.41      0.39       150\n",
      "           3       0.30      0.29      0.30       150\n",
      "           4       0.39      0.33      0.36       150\n",
      "\n",
      "    accuracy                           0.35       750\n",
      "   macro avg       0.35      0.35      0.34       750\n",
      "weighted avg       0.35      0.35      0.34       750\n",
      "\n",
      "[[55 28 19 31 17]\n",
      " [29 49 20 23 29]\n",
      " [19 29 61 22 19]\n",
      " [33 28 31 44 14]\n",
      " [21 17 35 27 50]]\n"
     ]
    }
   ],
   "source": [
    "lrc.fit(x_train_temp, Ytrain)\n",
    "y_pred = lrc.predict(x_test_temp)\n",
    "print(\"Accuracy:\", accuracy_score(Ytest, y_pred))\n",
    "print(\"\\n -------------Classification Report-------------\\n\")\n",
    "print(classification_report(Ytest, y_pred))\n",
    "print(confusion_matrix(Ytest, y_pred))  "
   ]
  },
  {
   "cell_type": "code",
   "execution_count": 183,
   "id": "c0703a1d",
   "metadata": {},
   "outputs": [
    {
     "name": "stdout",
     "output_type": "stream",
     "text": [
      "Accuracy: 0.4746666666666667\n",
      "\n",
      " -------------Classification Report-------------\n",
      "\n",
      "              precision    recall  f1-score   support\n",
      "\n",
      "           0       0.46      0.49      0.48       150\n",
      "           1       0.43      0.44      0.43       150\n",
      "           2       0.49      0.49      0.49       150\n",
      "           3       0.49      0.51      0.50       150\n",
      "           4       0.52      0.43      0.47       150\n",
      "\n",
      "    accuracy                           0.47       750\n",
      "   macro avg       0.48      0.47      0.47       750\n",
      "weighted avg       0.48      0.47      0.47       750\n",
      "\n",
      "[[74 22 19 18 17]\n",
      " [29 66 16 24 15]\n",
      " [16 21 74 23 16]\n",
      " [17 21 22 77 13]\n",
      " [25 25 20 15 65]]\n"
     ]
    }
   ],
   "source": [
    "from sklearn.ensemble import RandomForestClassifier\n",
    "lrc = RandomForestClassifier()\n",
    "lrc.fit(teamp_train, Ytrain)\n",
    "y_pred = lrc.predict(temp_test)\n",
    "print(\"Accuracy:\", accuracy_score(Ytest, y_pred))\n",
    "print(\"\\n -------------Classification Report-------------\\n\")\n",
    "print(classification_report(Ytest, y_pred))\n",
    "print(confusion_matrix(Ytest, y_pred))  "
   ]
  },
  {
   "cell_type": "code",
   "execution_count": 184,
   "id": "3d4c9b76",
   "metadata": {},
   "outputs": [
    {
     "name": "stdout",
     "output_type": "stream",
     "text": [
      "Accuracy: 0.4666666666666667\n",
      "\n",
      " -------------Classification Report-------------\n",
      "\n",
      "              precision    recall  f1-score   support\n",
      "\n",
      "           0       0.49      0.47      0.48       150\n",
      "           1       0.41      0.47      0.44       150\n",
      "           2       0.48      0.49      0.49       150\n",
      "           3       0.46      0.49      0.47       150\n",
      "           4       0.52      0.41      0.46       150\n",
      "\n",
      "    accuracy                           0.47       750\n",
      "   macro avg       0.47      0.47      0.47       750\n",
      "weighted avg       0.47      0.47      0.47       750\n",
      "\n",
      "[[71 21 13 30 15]\n",
      " [18 71 20 26 15]\n",
      " [17 28 74 18 13]\n",
      " [17 25 21 73 14]\n",
      " [23 28 25 13 61]]\n"
     ]
    }
   ],
   "source": [
    "lrc.fit(x_train_temp, Ytrain)\n",
    "y_pred = lrc.predict(x_test_temp)\n",
    "print(\"Accuracy:\", accuracy_score(Ytest, y_pred))\n",
    "print(\"\\n -------------Classification Report-------------\\n\")\n",
    "print(classification_report(Ytest, y_pred))\n",
    "print(confusion_matrix(Ytest, y_pred))  "
   ]
  },
  {
   "cell_type": "code",
   "execution_count": 185,
   "id": "634fa6c4",
   "metadata": {},
   "outputs": [
    {
     "name": "stdout",
     "output_type": "stream",
     "text": [
      "Accuracy: 0.49866666666666665\n",
      "\n",
      " -------------Classification Report-------------\n",
      "\n",
      "              precision    recall  f1-score   support\n",
      "\n",
      "           0       0.55      0.49      0.52       150\n",
      "           1       0.46      0.49      0.48       150\n",
      "           2       0.51      0.55      0.53       150\n",
      "           3       0.44      0.48      0.46       150\n",
      "           4       0.54      0.48      0.51       150\n",
      "\n",
      "    accuracy                           0.50       750\n",
      "   macro avg       0.50      0.50      0.50       750\n",
      "weighted avg       0.50      0.50      0.50       750\n",
      "\n",
      "[[73 19 15 28 15]\n",
      " [14 74 18 26 18]\n",
      " [ 9 22 83 21 15]\n",
      " [18 24 23 72 13]\n",
      " [19 21 23 15 72]]\n"
     ]
    }
   ],
   "source": [
    "from sklearn.ensemble import AdaBoostClassifier\n",
    "lrc = AdaBoostClassifier(RandomForestClassifier(),n_estimators=10,learning_rate=0.6)\n",
    "lrc.fit(teamp_train, Ytrain)\n",
    "y_pred = lrc.predict(temp_test)\n",
    "print(\"Accuracy:\", accuracy_score(Ytest, y_pred))\n",
    "print(\"\\n -------------Classification Report-------------\\n\")\n",
    "print(classification_report(Ytest, y_pred))\n",
    "print(confusion_matrix(Ytest, y_pred))  "
   ]
  },
  {
   "cell_type": "code",
   "execution_count": 186,
   "id": "09d704d6",
   "metadata": {},
   "outputs": [
    {
     "name": "stdout",
     "output_type": "stream",
     "text": [
      "Accuracy: 0.5066666666666667\n",
      "\n",
      " -------------Classification Report-------------\n",
      "\n",
      "              precision    recall  f1-score   support\n",
      "\n",
      "           0       0.49      0.52      0.51       150\n",
      "           1       0.48      0.50      0.49       150\n",
      "           2       0.54      0.53      0.54       150\n",
      "           3       0.49      0.53      0.51       150\n",
      "           4       0.53      0.45      0.49       150\n",
      "\n",
      "    accuracy                           0.51       750\n",
      "   macro avg       0.51      0.51      0.51       750\n",
      "weighted avg       0.51      0.51      0.51       750\n",
      "\n",
      "[[78 19 13 25 15]\n",
      " [22 75 17 22 14]\n",
      " [15 18 79 19 19]\n",
      " [20 26 11 80 13]\n",
      " [23 18 25 16 68]]\n"
     ]
    }
   ],
   "source": [
    "lrc.fit(x_train_temp, Ytrain)\n",
    "y_pred = lrc.predict(x_test_temp)\n",
    "print(\"Accuracy:\", accuracy_score(Ytest, y_pred))\n",
    "print(\"\\n -------------Classification Report-------------\\n\")\n",
    "print(classification_report(Ytest, y_pred))\n",
    "print(confusion_matrix(Ytest, y_pred))  "
   ]
  },
  {
   "cell_type": "code",
   "execution_count": 187,
   "id": "68261d83",
   "metadata": {},
   "outputs": [
    {
     "name": "stdout",
     "output_type": "stream",
     "text": [
      "Accuracy: 0.42133333333333334\n",
      "\n",
      " -------------Classification Report-------------\n",
      "\n",
      "              precision    recall  f1-score   support\n",
      "\n",
      "           0       0.43      0.40      0.42       150\n",
      "           1       0.41      0.38      0.39       150\n",
      "           2       0.47      0.45      0.46       150\n",
      "           3       0.41      0.48      0.44       150\n",
      "           4       0.39      0.40      0.39       150\n",
      "\n",
      "    accuracy                           0.42       750\n",
      "   macro avg       0.42      0.42      0.42       750\n",
      "weighted avg       0.42      0.42      0.42       750\n",
      "\n",
      "[[60 24 23 26 17]\n",
      " [29 57 12 27 25]\n",
      " [16 18 67 23 26]\n",
      " [10 21 21 72 26]\n",
      " [24 19 21 26 60]]\n"
     ]
    }
   ],
   "source": [
    "from sklearn.ensemble import BaggingClassifier\n",
    "lrc=BaggingClassifier(RandomForestClassifier(),max_samples=0.5,max_features=1.0,n_estimators=10)\n",
    "lrc.fit(teamp_train, Ytrain)\n",
    "y_pred = lrc.predict(temp_test)\n",
    "print(\"Accuracy:\", accuracy_score(Ytest, y_pred))\n",
    "print(\"\\n -------------Classification Report-------------\\n\")\n",
    "print(classification_report(Ytest, y_pred))\n",
    "print(confusion_matrix(Ytest, y_pred))  "
   ]
  },
  {
   "cell_type": "code",
   "execution_count": 188,
   "id": "57baed26",
   "metadata": {},
   "outputs": [
    {
     "name": "stdout",
     "output_type": "stream",
     "text": [
      "Accuracy: 0.4093333333333333\n",
      "\n",
      " -------------Classification Report-------------\n",
      "\n",
      "              precision    recall  f1-score   support\n",
      "\n",
      "           0       0.42      0.46      0.44       150\n",
      "           1       0.40      0.37      0.39       150\n",
      "           2       0.45      0.41      0.43       150\n",
      "           3       0.41      0.45      0.43       150\n",
      "           4       0.37      0.35      0.36       150\n",
      "\n",
      "    accuracy                           0.41       750\n",
      "   macro avg       0.41      0.41      0.41       750\n",
      "weighted avg       0.41      0.41      0.41       750\n",
      "\n",
      "[[69 18 19 24 20]\n",
      " [29 56 14 27 24]\n",
      " [23 25 62 19 21]\n",
      " [21 17 19 68 25]\n",
      " [23 24 25 26 52]]\n"
     ]
    }
   ],
   "source": [
    "lrc.fit(x_train_temp, Ytrain)\n",
    "y_pred = lrc.predict(x_test_temp)\n",
    "print(\"Accuracy:\", accuracy_score(Ytest, y_pred))\n",
    "print(\"\\n -------------Classification Report-------------\\n\")\n",
    "print(classification_report(Ytest, y_pred))\n",
    "print(confusion_matrix(Ytest, y_pred))  "
   ]
  },
  {
   "cell_type": "code",
   "execution_count": 189,
   "id": "2be172d7",
   "metadata": {},
   "outputs": [
    {
     "name": "stderr",
     "output_type": "stream",
     "text": [
      "C:\\Users\\97450\\anaconda3\\envs\\eeg\\lib\\site-packages\\sklearn\\linear_model\\_logistic.py:814: ConvergenceWarning: lbfgs failed to converge (status=1):\n",
      "STOP: TOTAL NO. of ITERATIONS REACHED LIMIT.\n",
      "\n",
      "Increase the number of iterations (max_iter) or scale the data as shown in:\n",
      "    https://scikit-learn.org/stable/modules/preprocessing.html\n",
      "Please also refer to the documentation for alternative solver options:\n",
      "    https://scikit-learn.org/stable/modules/linear_model.html#logistic-regression\n",
      "  n_iter_i = _check_optimize_result(\n",
      "C:\\Users\\97450\\anaconda3\\envs\\eeg\\lib\\site-packages\\sklearn\\svm\\_base.py:1206: ConvergenceWarning: Liblinear failed to converge, increase the number of iterations.\n",
      "  warnings.warn(\n"
     ]
    },
    {
     "name": "stdout",
     "output_type": "stream",
     "text": [
      "Accuracy: 0.532\n",
      "\n",
      " -------------Classification Report-------------\n",
      "\n",
      "              precision    recall  f1-score   support\n",
      "\n",
      "           0       0.60      0.65      0.62       150\n",
      "           1       0.39      0.70      0.50       150\n",
      "           2       0.67      0.49      0.56       150\n",
      "           3       0.55      0.52      0.53       150\n",
      "           4       0.69      0.30      0.42       150\n",
      "\n",
      "    accuracy                           0.53       750\n",
      "   macro avg       0.58      0.53      0.53       750\n",
      "weighted avg       0.58      0.53      0.53       750\n",
      "\n",
      "[[ 98  28   7  14   3]\n",
      " [ 19 105   9  12   5]\n",
      " [ 13  42  73  15   7]\n",
      " [ 14  46   7  78   5]\n",
      " [ 20  48  13  24  45]]\n"
     ]
    }
   ],
   "source": [
    "from sklearn.ensemble import VotingClassifier\n",
    "kclf = KNeighborsClassifier(n_neighbors=1)\n",
    "lrc=VotingClassifier(estimators=[('kclf',kclf),('lrc',LogisticRegression()), ('rf',RandomForestClassifier()),\n",
    "                                 ('svm',LinearSVC()), ('dtc', DecisionTreeClassifier())], voting='hard')\n",
    "lrc.fit(teamp_train, Ytrain)\n",
    "y_pred = lrc.predict(temp_test)\n",
    "print(\"Accuracy:\", accuracy_score(Ytest, y_pred))\n",
    "print(\"\\n -------------Classification Report-------------\\n\")\n",
    "print(classification_report(Ytest, y_pred))\n",
    "print(confusion_matrix(Ytest, y_pred))  "
   ]
  },
  {
   "cell_type": "code",
   "execution_count": 190,
   "id": "01b8b563",
   "metadata": {},
   "outputs": [
    {
     "name": "stderr",
     "output_type": "stream",
     "text": [
      "C:\\Users\\97450\\anaconda3\\envs\\eeg\\lib\\site-packages\\sklearn\\linear_model\\_logistic.py:814: ConvergenceWarning: lbfgs failed to converge (status=1):\n",
      "STOP: TOTAL NO. of ITERATIONS REACHED LIMIT.\n",
      "\n",
      "Increase the number of iterations (max_iter) or scale the data as shown in:\n",
      "    https://scikit-learn.org/stable/modules/preprocessing.html\n",
      "Please also refer to the documentation for alternative solver options:\n",
      "    https://scikit-learn.org/stable/modules/linear_model.html#logistic-regression\n",
      "  n_iter_i = _check_optimize_result(\n",
      "C:\\Users\\97450\\anaconda3\\envs\\eeg\\lib\\site-packages\\sklearn\\svm\\_base.py:1206: ConvergenceWarning: Liblinear failed to converge, increase the number of iterations.\n",
      "  warnings.warn(\n"
     ]
    },
    {
     "name": "stdout",
     "output_type": "stream",
     "text": [
      "Accuracy: 0.576\n",
      "\n",
      " -------------Classification Report-------------\n",
      "\n",
      "              precision    recall  f1-score   support\n",
      "\n",
      "           0       0.55      0.61      0.58       150\n",
      "           1       0.56      0.52      0.54       150\n",
      "           2       0.71      0.53      0.61       150\n",
      "           3       0.47      0.79      0.59       150\n",
      "           4       0.79      0.43      0.55       150\n",
      "\n",
      "    accuracy                           0.58       750\n",
      "   macro avg       0.62      0.58      0.57       750\n",
      "weighted avg       0.62      0.58      0.57       750\n",
      "\n",
      "[[ 92  12   3  40   3]\n",
      " [ 31  78  10  25   6]\n",
      " [ 11  22  80  29   8]\n",
      " [ 14  11   7 118   0]\n",
      " [ 18  16  12  40  64]]\n"
     ]
    }
   ],
   "source": [
    "lrc.fit(x_train_temp, Ytrain)\n",
    "y_pred = lrc.predict(x_test_temp)\n",
    "print(\"Accuracy:\", accuracy_score(Ytest, y_pred))\n",
    "print(\"\\n -------------Classification Report-------------\\n\")\n",
    "print(classification_report(Ytest, y_pred))\n",
    "print(confusion_matrix(Ytest, y_pred))  "
   ]
  },
  {
   "cell_type": "code",
   "execution_count": 168,
   "id": "2c6c1577",
   "metadata": {},
   "outputs": [
    {
     "name": "stdout",
     "output_type": "stream",
     "text": [
      "Accuracy: 0.31733333333333336\n",
      "\n",
      " -------------Classification Report-------------\n",
      "\n",
      "              precision    recall  f1-score   support\n",
      "\n",
      "           0       0.48      0.18      0.26       150\n",
      "           1       0.42      0.27      0.33       150\n",
      "           2       0.30      0.65      0.41       150\n",
      "           3       0.38      0.04      0.07       150\n",
      "           4       0.26      0.45      0.33       150\n",
      "\n",
      "    accuracy                           0.32       750\n",
      "   macro avg       0.37      0.32      0.28       750\n",
      "weighted avg       0.37      0.32      0.28       750\n",
      "\n",
      "[[27 17 50  1 55]\n",
      " [ 7 41 55  5 42]\n",
      " [ 6  8 97  1 38]\n",
      " [ 6 19 66  6 53]\n",
      " [10 13 57  3 67]]\n"
     ]
    }
   ],
   "source": [
    "from sklearn.neural_network import MLPClassifier\n",
    "clf = MLPClassifier(hidden_layer_sizes=(150,100,50), max_iter=300, activation = 'relu',solver='adam',random_state=1)\n",
    "clf.fit(teamp_train, Ytrain)\n",
    "y_pred = clf.predict(temp_test)\n",
    "print(\"Accuracy:\", accuracy_score(Ytest, y_pred))\n",
    "print(\"\\n -------------Classification Report-------------\\n\")\n",
    "print(classification_report(Ytest, y_pred))\n",
    "print(confusion_matrix(Ytest, y_pred))"
   ]
  },
  {
   "cell_type": "code",
   "execution_count": 191,
   "id": "419a28eb",
   "metadata": {},
   "outputs": [
    {
     "name": "stdout",
     "output_type": "stream",
     "text": [
      "Accuracy: 0.252\n",
      "\n",
      " -------------Classification Report-------------\n",
      "\n",
      "              precision    recall  f1-score   support\n",
      "\n",
      "           0       0.43      0.02      0.04       150\n",
      "           1       0.50      0.01      0.03       150\n",
      "           2       0.23      0.41      0.30       150\n",
      "           3       0.24      0.57      0.34       150\n",
      "           4       0.31      0.24      0.27       150\n",
      "\n",
      "    accuracy                           0.25       750\n",
      "   macro avg       0.34      0.25      0.19       750\n",
      "weighted avg       0.34      0.25      0.19       750\n",
      "\n",
      "[[ 3  0 50 84 13]\n",
      " [ 2  2 61 69 16]\n",
      " [ 1  1 62 57 29]\n",
      " [ 1  1 41 86 21]\n",
      " [ 0  0 56 58 36]]\n"
     ]
    }
   ],
   "source": [
    "clf.fit(x_train_temp, Ytrain)\n",
    "y_pred = clf.predict(x_test_temp)\n",
    "print(\"Accuracy:\", accuracy_score(Ytest, y_pred))\n",
    "print(\"\\n -------------Classification Report-------------\\n\")\n",
    "print(classification_report(Ytest, y_pred))\n",
    "print(confusion_matrix(Ytest, y_pred))  "
   ]
  },
  {
   "cell_type": "code",
   "execution_count": 143,
   "id": "ea3d391a",
   "metadata": {},
   "outputs": [],
   "source": [
    "from sklearn.model_selection import KFold, StratifiedKFold\n",
    "from sklearn.model_selection import cross_val_score"
   ]
  },
  {
   "cell_type": "code",
   "execution_count": 144,
   "id": "390fe168",
   "metadata": {},
   "outputs": [],
   "source": [
    "y = np.concatenate((Ytrain, Ytest))"
   ]
  },
  {
   "cell_type": "code",
   "execution_count": 146,
   "id": "fc233457",
   "metadata": {},
   "outputs": [
    {
     "data": {
      "text/plain": [
       "(5250,)"
      ]
     },
     "execution_count": 146,
     "metadata": {},
     "output_type": "execute_result"
    }
   ],
   "source": [
    "y.shape"
   ]
  },
  {
   "cell_type": "code",
   "execution_count": 150,
   "id": "1e10c4b9",
   "metadata": {},
   "outputs": [],
   "source": [
    "x = np.concatenate((teamp_train, temp_test))"
   ]
  },
  {
   "cell_type": "code",
   "execution_count": 152,
   "id": "fd39d6cc",
   "metadata": {},
   "outputs": [
    {
     "data": {
      "text/plain": [
       "(5250, 540)"
      ]
     },
     "execution_count": 152,
     "metadata": {},
     "output_type": "execute_result"
    }
   ],
   "source": [
    "x.shape"
   ]
  },
  {
   "cell_type": "code",
   "execution_count": 163,
   "id": "8c802b8d",
   "metadata": {},
   "outputs": [],
   "source": [
    "cv = StratifiedKFold(n_splits=10, random_state=1, shuffle=True)\n",
    "scores = cross_val_score(kclf, x, y, scoring='accuracy',\n",
    "                         cv=cv)"
   ]
  },
  {
   "cell_type": "code",
   "execution_count": 164,
   "id": "1dc331b0",
   "metadata": {},
   "outputs": [
    {
     "data": {
      "text/plain": [
       "0.7180952380952381"
      ]
     },
     "execution_count": 164,
     "metadata": {},
     "output_type": "execute_result"
    }
   ],
   "source": [
    "scores.mean()"
   ]
  },
  {
   "cell_type": "code",
   "execution_count": 165,
   "id": "c97e7b5b",
   "metadata": {},
   "outputs": [
    {
     "data": {
      "text/plain": [
       "0.7657142857142857"
      ]
     },
     "execution_count": 165,
     "metadata": {},
     "output_type": "execute_result"
    }
   ],
   "source": [
    "scores.max()"
   ]
  },
  {
   "cell_type": "code",
   "execution_count": 166,
   "id": "1ae96879",
   "metadata": {},
   "outputs": [
    {
     "data": {
      "text/plain": [
       "0.6952380952380952"
      ]
     },
     "execution_count": 166,
     "metadata": {},
     "output_type": "execute_result"
    }
   ],
   "source": [
    "scores.min()"
   ]
  },
  {
   "cell_type": "code",
   "execution_count": 167,
   "id": "54cf7a87",
   "metadata": {},
   "outputs": [
    {
     "data": {
      "text/plain": [
       "array([0.6952381 , 0.74285714, 0.70095238, 0.72571429, 0.6952381 ,\n",
       "       0.76571429, 0.6952381 , 0.72380952, 0.70095238, 0.7352381 ])"
      ]
     },
     "execution_count": 167,
     "metadata": {},
     "output_type": "execute_result"
    }
   ],
   "source": [
    "scores"
   ]
  },
  {
   "cell_type": "code",
   "execution_count": 193,
   "id": "e4d83362",
   "metadata": {},
   "outputs": [],
   "source": [
    "x = np.concatenate((x_train_temp, x_test_temp))"
   ]
  },
  {
   "cell_type": "code",
   "execution_count": 194,
   "id": "a1fa7eb3",
   "metadata": {},
   "outputs": [],
   "source": [
    "cv = StratifiedKFold(n_splits=10, random_state=1, shuffle=True)\n",
    "scores = cross_val_score(kclf, x, y, scoring='accuracy',\n",
    "                         cv=cv)"
   ]
  },
  {
   "cell_type": "code",
   "execution_count": 195,
   "id": "58d45258",
   "metadata": {},
   "outputs": [
    {
     "data": {
      "text/plain": [
       "0.715047619047619"
      ]
     },
     "execution_count": 195,
     "metadata": {},
     "output_type": "execute_result"
    }
   ],
   "source": [
    "scores.mean()"
   ]
  },
  {
   "cell_type": "code",
   "execution_count": 196,
   "id": "18e2c287",
   "metadata": {},
   "outputs": [
    {
     "data": {
      "text/plain": [
       "0.7542857142857143"
      ]
     },
     "execution_count": 196,
     "metadata": {},
     "output_type": "execute_result"
    }
   ],
   "source": [
    "scores.max()"
   ]
  },
  {
   "cell_type": "code",
   "execution_count": 197,
   "id": "52b51bd0",
   "metadata": {},
   "outputs": [
    {
     "data": {
      "text/plain": [
       "0.6685714285714286"
      ]
     },
     "execution_count": 197,
     "metadata": {},
     "output_type": "execute_result"
    }
   ],
   "source": [
    "scores.min()"
   ]
  },
  {
   "cell_type": "markdown",
   "id": "500f2495",
   "metadata": {},
   "source": [
    "# Visualization"
   ]
  },
  {
   "cell_type": "code",
   "execution_count": 198,
   "id": "bbaad4c9",
   "metadata": {},
   "outputs": [
    {
     "name": "stdout",
     "output_type": "stream",
     "text": [
      "Top channel : 19 \n",
      " ['PO8', 'P6', 'P1', 'TP8', 'CP4', 'C6', 'C2', 'C1', 'FT7', 'F6', 'F5', 'AF3', 'AF7', 'O2', 'P8', 'Pz', 'P3', 'P7', 'F3']\n",
      "Accuracy: 0.752\n",
      "\n",
      " -------------Classification Report-------------\n",
      "\n",
      "              precision    recall  f1-score   support\n",
      "\n",
      "           0       0.75      0.77      0.76       150\n",
      "           1       0.70      0.72      0.71       150\n",
      "           2       0.80      0.78      0.79       150\n",
      "           3       0.74      0.77      0.76       150\n",
      "           4       0.78      0.72      0.75       150\n",
      "\n",
      "   micro avg       0.75      0.75      0.75       750\n",
      "   macro avg       0.75      0.75      0.75       750\n",
      "weighted avg       0.75      0.75      0.75       750\n",
      " samples avg       0.75      0.75      0.75       750\n",
      "\n"
     ]
    }
   ],
   "source": [
    "train, test = backward(x_train_temp, y_train,  x_test_temp, y_test)"
   ]
  },
  {
   "cell_type": "code",
   "execution_count": 199,
   "id": "5f9f0aff",
   "metadata": {},
   "outputs": [
    {
     "name": "stdout",
     "output_type": "stream",
     "text": [
      "Accuracy: 0.752\n",
      "\n",
      " -------------Classification Report-------------\n",
      "\n",
      "              precision    recall  f1-score   support\n",
      "\n",
      "           0       0.75      0.77      0.76       150\n",
      "           1       0.70      0.72      0.71       150\n",
      "           2       0.80      0.78      0.79       150\n",
      "           3       0.74      0.77      0.76       150\n",
      "           4       0.78      0.72      0.75       150\n",
      "\n",
      "   micro avg       0.75      0.75      0.75       750\n",
      "   macro avg       0.75      0.75      0.75       750\n",
      "weighted avg       0.75      0.75      0.75       750\n",
      " samples avg       0.75      0.75      0.75       750\n",
      "\n"
     ]
    }
   ],
   "source": [
    "kclf = KNeighborsClassifier(n_neighbors=1)\n",
    "kclf.fit(train, y_train)\n",
    "y_pred = kclf.predict(test)\n",
    "print(\"Accuracy:\", accuracy_score(y_test, y_pred))\n",
    "print(\"\\n -------------Classification Report-------------\\n\")\n",
    "print(classification_report(y_test, y_pred))\n",
    "cm = confusion_matrix([np.argmax(a) for a in y_test], [np.argmax(j) for j in y_pred])"
   ]
  },
  {
   "cell_type": "code",
   "execution_count": 202,
   "id": "a3827c21",
   "metadata": {},
   "outputs": [
    {
     "data": {
      "image/png": "[encoded data removed]",
      "text/plain": [
       "<Figure size 864x648 with 2 Axes>"
      ]
     },
     "metadata": {
      "needs_background": "light"
     },
     "output_type": "display_data"
    }
   ],
   "source": [
    "from matplotlib import pyplot as plt\n",
    "import seaborn as sns\n",
    "cf_matrix = cm*100/150\n",
    "plt.figure(figsize=(12, 9))\n",
    "ax = sns.heatmap(cf_matrix, annot=True, cmap=\"Blues\")\n",
    "\n",
    "ax.set_title('Seaborn Confusion Matrix with labels\\n\\n');\n",
    "ax.set_xlabel('\\nPredicted Values')\n",
    "ax.set_ylabel('Actual Values ');\n",
    "\n",
    "## Ticket labels - List must be in alphabetical order\n",
    "ax.xaxis.set_ticklabels(['hello', 'help me', 'stop', 'thank you', 'yes'])\n",
    "ax.yaxis.set_ticklabels(['hello', 'help me', 'stop', 'thank you', 'yes'])\n",
    "\n",
    "## Display the visualization of the Confusion Matrix.\n",
    "\n",
    "plt.savefig('confusion_matrix.png', bbox_inches='tight')\n",
    "plt.show()\n",
    "plt.close()"
   ]
  },
  {
   "cell_type": "code",
   "execution_count": 249,
   "id": "4c62a5f6",
   "metadata": {},
   "outputs": [],
   "source": [
    "paper_1 = [\"FC5\", \"CP5\", \"F5\", \"FT7\", \"FC3\", \"TP7\", \"CP3\", \"P5\"]\n",
    "# 1) Inferring imagined speech using EEG signals a new approach using Riemannian manifold features\n",
    "# 2) Multiclass Classification of Word Imagination Speech With Hybrid Connectivity Features"
   ]
  },
  {
   "cell_type": "code",
   "execution_count": 250,
   "id": "23e57e93",
   "metadata": {},
   "outputs": [],
   "source": [
    "channel_index = []\n",
    "for idx, i in enumerate(channels_names):\n",
    "    if i in paper_1:\n",
    "        channel_index.append(idx)\n",
    "    else:\n",
    "        pass"
   ]
  },
  {
   "cell_type": "code",
   "execution_count": 251,
   "id": "338ddb63",
   "metadata": {},
   "outputs": [],
   "source": [
    "def paper_channels_impl(channel_index, train, y_train, test, y_test):\n",
    "#     tempfeatures, vtemp = np.array()\n",
    "    \n",
    "    total_feature = train.shape[1]\n",
    "    feature_per_channel = total_feature//64\n",
    "    induces = []\n",
    "    for induce in channel_index:\n",
    "        induce = induce*feature_per_channel\n",
    "        induces.extend([induce+i for i in range(feature_per_channel)])\n",
    "    return train[:,induces], test[:,induces]"
   ]
  },
  {
   "cell_type": "code",
   "execution_count": 252,
   "id": "aca5fc71",
   "metadata": {},
   "outputs": [
    {
     "name": "stdout",
     "output_type": "stream",
     "text": [
      " Spect Accuracy: 0.26\n",
      "\n",
      " -------------Classification Report-------------\n",
      "\n",
      "              precision    recall  f1-score   support\n",
      "\n",
      "           0       0.29      0.28      0.29       150\n",
      "           1       0.24      0.22      0.23       150\n",
      "           2       0.27      0.27      0.27       150\n",
      "           3       0.28      0.31      0.29       150\n",
      "           4       0.22      0.22      0.22       150\n",
      "\n",
      "   micro avg       0.26      0.26      0.26       750\n",
      "   macro avg       0.26      0.26      0.26       750\n",
      "weighted avg       0.26      0.26      0.26       750\n",
      " samples avg       0.26      0.26      0.26       750\n",
      "\n",
      " Stat Accuracy: 0.39866666666666667\n",
      "\n",
      " -------------Classification Report-------------\n",
      "\n",
      "              precision    recall  f1-score   support\n",
      "\n",
      "           0       0.34      0.35      0.34       150\n",
      "           1       0.40      0.39      0.39       150\n",
      "           2       0.40      0.38      0.39       150\n",
      "           3       0.41      0.43      0.42       150\n",
      "           4       0.46      0.45      0.45       150\n",
      "\n",
      "   micro avg       0.40      0.40      0.40       750\n",
      "   macro avg       0.40      0.40      0.40       750\n",
      "weighted avg       0.40      0.40      0.40       750\n",
      " samples avg       0.40      0.40      0.40       750\n",
      "\n",
      " Temp Accuracy: 0.47333333333333333\n",
      "\n",
      " -------------Classification Report-------------\n",
      "\n",
      "              precision    recall  f1-score   support\n",
      "\n",
      "           0       0.46      0.51      0.48       150\n",
      "           1       0.40      0.41      0.40       150\n",
      "           2       0.49      0.45      0.47       150\n",
      "           3       0.53      0.52      0.52       150\n",
      "           4       0.50      0.47      0.49       150\n",
      "\n",
      "   micro avg       0.47      0.47      0.47       750\n",
      "   macro avg       0.47      0.47      0.47       750\n",
      "weighted avg       0.47      0.47      0.47       750\n",
      " samples avg       0.47      0.47      0.47       750\n",
      "\n",
      " Spect Stat Accuracy: 0.30133333333333334\n",
      "\n",
      " -------------Classification Report-------------\n",
      "\n",
      "              precision    recall  f1-score   support\n",
      "\n",
      "           0       0.34      0.34      0.34       150\n",
      "           1       0.28      0.32      0.30       150\n",
      "           2       0.26      0.23      0.25       150\n",
      "           3       0.32      0.31      0.31       150\n",
      "           4       0.31      0.31      0.31       150\n",
      "\n",
      "   micro avg       0.30      0.30      0.30       750\n",
      "   macro avg       0.30      0.30      0.30       750\n",
      "weighted avg       0.30      0.30      0.30       750\n",
      " samples avg       0.30      0.30      0.30       750\n",
      "\n",
      " Stat Temp Accuracy: 0.6066666666666667\n",
      "\n",
      " -------------Classification Report-------------\n",
      "\n",
      "              precision    recall  f1-score   support\n",
      "\n",
      "           0       0.57      0.58      0.58       150\n",
      "           1       0.56      0.57      0.57       150\n",
      "           2       0.64      0.59      0.62       150\n",
      "           3       0.60      0.69      0.64       150\n",
      "           4       0.68      0.60      0.64       150\n",
      "\n",
      "   micro avg       0.61      0.61      0.61       750\n",
      "   macro avg       0.61      0.61      0.61       750\n",
      "weighted avg       0.61      0.61      0.61       750\n",
      " samples avg       0.61      0.61      0.61       750\n",
      "\n",
      " Temp Spect Accuracy: 0.28\n",
      "\n",
      " -------------Classification Report-------------\n",
      "\n",
      "              precision    recall  f1-score   support\n",
      "\n",
      "           0       0.25      0.27      0.26       150\n",
      "           1       0.29      0.27      0.28       150\n",
      "           2       0.27      0.27      0.27       150\n",
      "           3       0.28      0.28      0.28       150\n",
      "           4       0.32      0.31      0.31       150\n",
      "\n",
      "   micro avg       0.28      0.28      0.28       750\n",
      "   macro avg       0.28      0.28      0.28       750\n",
      "weighted avg       0.28      0.28      0.28       750\n",
      " samples avg       0.28      0.28      0.28       750\n",
      "\n",
      " All Accuracy: 0.272\n",
      "\n",
      " -------------Classification Report-------------\n",
      "\n",
      "              precision    recall  f1-score   support\n",
      "\n",
      "           0       0.25      0.25      0.25       150\n",
      "           1       0.29      0.30      0.30       150\n",
      "           2       0.26      0.25      0.26       150\n",
      "           3       0.28      0.27      0.28       150\n",
      "           4       0.28      0.29      0.28       150\n",
      "\n",
      "   micro avg       0.27      0.27      0.27       750\n",
      "   macro avg       0.27      0.27      0.27       750\n",
      "weighted avg       0.27      0.27      0.27       750\n",
      " samples avg       0.27      0.27      0.27       750\n",
      "\n"
     ]
    }
   ],
   "source": [
    "# Spect\n",
    "\n",
    "train_temp_s, test_temp_s = paper_channels_impl(channel_index, x_train_spect, y_train,  x_test_spect, y_test)\n",
    "kclf = KNeighborsClassifier(n_neighbors=1)\n",
    "kclf.fit(train_temp_s, y_train)\n",
    "y_pred = kclf.predict(test_temp_s)\n",
    "print(\" Spect Accuracy:\", accuracy_score(y_test, y_pred))\n",
    "print(\"\\n -------------Classification Report-------------\\n\")\n",
    "print(classification_report(y_test, y_pred))\n",
    "\n",
    "# Statistical\n",
    "\n",
    "train_temp_s, test_temp_s = paper_channels_impl(channel_index, x_train_stat, y_train,  x_test_stat, y_test)\n",
    "kclf = KNeighborsClassifier(n_neighbors=1)\n",
    "kclf.fit(train_temp_s, y_train)\n",
    "y_pred = kclf.predict(test_temp_s)\n",
    "print(\" Stat Accuracy:\", accuracy_score(y_test, y_pred))\n",
    "print(\"\\n -------------Classification Report-------------\\n\")\n",
    "print(classification_report(y_test, y_pred))\n",
    "\n",
    "\n",
    "\n",
    "train_temp_s, test_temp_s = paper_channels_impl(channel_index, x_train_temp, y_train,  x_test_temp, y_test)\n",
    "kclf = KNeighborsClassifier(n_neighbors=1)\n",
    "kclf.fit(train_temp_s, y_train)\n",
    "y_pred = kclf.predict(test_temp_s)\n",
    "print(\" Temp Accuracy:\", accuracy_score(y_test, y_pred))\n",
    "print(\"\\n -------------Classification Report-------------\\n\")\n",
    "print(classification_report(y_test, y_pred))\n",
    "\n",
    "\n",
    "# Spect Stat\n",
    "\n",
    "train_temp_s, test_temp_s = paper_channels_impl(channel_index, x_train_stat_spect, y_train,  x_test_stat_spect, y_test)\n",
    "kclf = KNeighborsClassifier(n_neighbors=1)\n",
    "kclf.fit(train_temp_s, y_train)\n",
    "y_pred = kclf.predict(test_temp_s)\n",
    "print(\" Spect Stat Accuracy:\", accuracy_score(y_test, y_pred))\n",
    "print(\"\\n -------------Classification Report-------------\\n\")\n",
    "print(classification_report(y_test, y_pred))\n",
    "\n",
    "# Stat Temp\n",
    "\n",
    "train_temp_s, test_temp_s = paper_channels_impl(channel_index, x_train_stat_temp, y_train,  x_test_stat_temp, y_test)\n",
    "kclf = KNeighborsClassifier(n_neighbors=1)\n",
    "kclf.fit(train_temp_s, y_train)\n",
    "y_pred = kclf.predict(test_temp_s)\n",
    "print(\" Stat Temp Accuracy:\", accuracy_score(y_test, y_pred))\n",
    "print(\"\\n -------------Classification Report-------------\\n\")\n",
    "print(classification_report(y_test, y_pred))\n",
    "\n",
    "# Temp Spect\n",
    "\n",
    "train_temp_s, test_temp_s = paper_channels_impl(channel_index, x_train_temp_spect, y_train,  x_test_temp_spect, y_test)\n",
    "kclf = KNeighborsClassifier(n_neighbors=1)\n",
    "kclf.fit(train_temp_s, y_train)\n",
    "y_pred = kclf.predict(test_temp_s)\n",
    "print(\" Temp Spect Accuracy:\", accuracy_score(y_test, y_pred))\n",
    "print(\"\\n -------------Classification Report-------------\\n\")\n",
    "print(classification_report(y_test, y_pred))\n",
    "\n",
    "# All Stat, spect, Temp\n",
    "\n",
    "train_temp_s, test_temp_s = paper_channels_impl(channel_index, x_train_all_features, y_train,  x_test_all_features, y_test)\n",
    "kclf = KNeighborsClassifier(n_neighbors=1)\n",
    "kclf.fit(train_temp_s, y_train)\n",
    "y_pred = kclf.predict(test_temp_s)\n",
    "print(\" All Accuracy:\", accuracy_score(y_test, y_pred))\n",
    "print(\"\\n -------------Classification Report-------------\\n\")\n",
    "print(classification_report(y_test, y_pred))"
   ]
  },
  {
   "cell_type": "code",
   "execution_count": 238,
   "id": "fada4974",
   "metadata": {},
   "outputs": [],
   "source": [
    "paper_2 = [\"T7\", \"C5\",\"C3\", \"C1\", \"CP5\", \"FC1\", \"FC3\", \"FC5\", \"FC6\", \"FT7\", \"F1\", \"F3\", \"F5\", \"F7\", \"FT8\", \"TP7\"]\n",
    "# EEG signal classification of imagined speech based on Riemannian distance of correntropy spectral density"
   ]
  },
  {
   "cell_type": "code",
   "execution_count": 240,
   "id": "f7d99059",
   "metadata": {},
   "outputs": [
    {
     "data": {
      "text/plain": [
       "[2, 3, 7, 8, 10, 11, 12, 17, 36, 37, 41, 42, 44, 46, 47, 50]"
      ]
     },
     "execution_count": 240,
     "metadata": {},
     "output_type": "execute_result"
    }
   ],
   "source": [
    "channel_index = []\n",
    "for idx, i in enumerate(channels_names):\n",
    "    if i in paper_2:\n",
    "        channel_index.append(idx)\n",
    "    else:\n",
    "        pass\n",
    "channel_index"
   ]
  },
  {
   "cell_type": "code",
   "execution_count": 243,
   "id": "400b8d61",
   "metadata": {},
   "outputs": [
    {
     "name": "stdout",
     "output_type": "stream",
     "text": [
      " Spect Accuracy: 0.33066666666666666\n",
      "\n",
      " -------------Classification Report-------------\n",
      "\n",
      "              precision    recall  f1-score   support\n",
      "\n",
      "           0       0.30      0.27      0.29       150\n",
      "           1       0.30      0.32      0.31       150\n",
      "           2       0.30      0.27      0.28       150\n",
      "           3       0.35      0.38      0.36       150\n",
      "           4       0.40      0.41      0.41       150\n",
      "\n",
      "   micro avg       0.33      0.33      0.33       750\n",
      "   macro avg       0.33      0.33      0.33       750\n",
      "weighted avg       0.33      0.33      0.33       750\n",
      " samples avg       0.33      0.33      0.33       750\n",
      "\n",
      " Stat Accuracy: 0.4666666666666667\n",
      "\n",
      " -------------Classification Report-------------\n",
      "\n",
      "              precision    recall  f1-score   support\n",
      "\n",
      "           0       0.47      0.45      0.46       150\n",
      "           1       0.47      0.47      0.47       150\n",
      "           2       0.51      0.47      0.49       150\n",
      "           3       0.41      0.47      0.44       150\n",
      "           4       0.49      0.48      0.48       150\n",
      "\n",
      "   micro avg       0.47      0.47      0.47       750\n",
      "   macro avg       0.47      0.47      0.47       750\n",
      "weighted avg       0.47      0.47      0.47       750\n",
      " samples avg       0.47      0.47      0.47       750\n",
      "\n",
      " Temp Accuracy: 0.624\n",
      "\n",
      " -------------Classification Report-------------\n",
      "\n",
      "              precision    recall  f1-score   support\n",
      "\n",
      "           0       0.66      0.64      0.65       150\n",
      "           1       0.60      0.62      0.61       150\n",
      "           2       0.62      0.59      0.60       150\n",
      "           3       0.61      0.64      0.63       150\n",
      "           4       0.63      0.63      0.63       150\n",
      "\n",
      "   micro avg       0.62      0.62      0.62       750\n",
      "   macro avg       0.62      0.62      0.62       750\n",
      "weighted avg       0.62      0.62      0.62       750\n",
      " samples avg       0.62      0.62      0.62       750\n",
      "\n",
      " Spect Stat Accuracy: 0.3373333333333333\n",
      "\n",
      " -------------Classification Report-------------\n",
      "\n",
      "              precision    recall  f1-score   support\n",
      "\n",
      "           0       0.34      0.35      0.35       150\n",
      "           1       0.33      0.34      0.33       150\n",
      "           2       0.34      0.35      0.34       150\n",
      "           3       0.33      0.31      0.32       150\n",
      "           4       0.35      0.33      0.34       150\n",
      "\n",
      "   micro avg       0.34      0.34      0.34       750\n",
      "   macro avg       0.34      0.34      0.34       750\n",
      "weighted avg       0.34      0.34      0.34       750\n",
      " samples avg       0.34      0.34      0.34       750\n",
      "\n",
      " Stat Temp Accuracy: 0.4653333333333333\n",
      "\n",
      " -------------Classification Report-------------\n",
      "\n",
      "              precision    recall  f1-score   support\n",
      "\n",
      "           0       0.42      0.42      0.42       150\n",
      "           1       0.42      0.41      0.42       150\n",
      "           2       0.49      0.49      0.49       150\n",
      "           3       0.54      0.55      0.54       150\n",
      "           4       0.46      0.46      0.46       150\n",
      "\n",
      "   micro avg       0.47      0.47      0.47       750\n",
      "   macro avg       0.46      0.47      0.47       750\n",
      "weighted avg       0.46      0.47      0.47       750\n",
      " samples avg       0.47      0.47      0.47       750\n",
      "\n",
      " Temp Spect Accuracy: 0.32133333333333336\n",
      "\n",
      " -------------Classification Report-------------\n",
      "\n",
      "              precision    recall  f1-score   support\n",
      "\n",
      "           0       0.33      0.31      0.32       150\n",
      "           1       0.30      0.31      0.30       150\n",
      "           2       0.33      0.37      0.35       150\n",
      "           3       0.31      0.28      0.29       150\n",
      "           4       0.33      0.34      0.34       150\n",
      "\n",
      "   micro avg       0.32      0.32      0.32       750\n",
      "   macro avg       0.32      0.32      0.32       750\n",
      "weighted avg       0.32      0.32      0.32       750\n",
      " samples avg       0.32      0.32      0.32       750\n",
      "\n",
      " All Accuracy: 0.332\n",
      "\n",
      " -------------Classification Report-------------\n",
      "\n",
      "              precision    recall  f1-score   support\n",
      "\n",
      "           0       0.35      0.41      0.38       150\n",
      "           1       0.35      0.36      0.35       150\n",
      "           2       0.36      0.32      0.34       150\n",
      "           3       0.28      0.27      0.28       150\n",
      "           4       0.32      0.30      0.31       150\n",
      "\n",
      "   micro avg       0.33      0.33      0.33       750\n",
      "   macro avg       0.33      0.33      0.33       750\n",
      "weighted avg       0.33      0.33      0.33       750\n",
      " samples avg       0.33      0.33      0.33       750\n",
      "\n"
     ]
    }
   ],
   "source": [
    "# Spect\n",
    "\n",
    "train_temp_s, test_temp_s = paper_channels_impl(channel_index, x_train_spect, y_train,  x_test_spect, y_test)\n",
    "kclf = KNeighborsClassifier(n_neighbors=1)\n",
    "kclf.fit(train_temp_s, y_train)\n",
    "y_pred = kclf.predict(test_temp_s)\n",
    "print(\" Spect Accuracy:\", accuracy_score(y_test, y_pred))\n",
    "print(\"\\n -------------Classification Report-------------\\n\")\n",
    "print(classification_report(y_test, y_pred))\n",
    "\n",
    "# Statistical\n",
    "\n",
    "train_temp_s, test_temp_s = paper_channels_impl(channel_index, x_train_stat, y_train,  x_test_stat, y_test)\n",
    "kclf = KNeighborsClassifier(n_neighbors=1)\n",
    "kclf.fit(train_temp_s, y_train)\n",
    "y_pred = kclf.predict(test_temp_s)\n",
    "print(\" Stat Accuracy:\", accuracy_score(y_test, y_pred))\n",
    "print(\"\\n -------------Classification Report-------------\\n\")\n",
    "print(classification_report(y_test, y_pred))\n",
    "\n",
    "\n",
    "\n",
    "train_temp_s, test_temp_s = paper_channels_impl(channel_index, x_train_temp, y_train,  x_test_temp, y_test)\n",
    "kclf = KNeighborsClassifier(n_neighbors=1)\n",
    "kclf.fit(train_temp_s, y_train)\n",
    "y_pred = kclf.predict(test_temp_s)\n",
    "print(\" Temp Accuracy:\", accuracy_score(y_test, y_pred))\n",
    "print(\"\\n -------------Classification Report-------------\\n\")\n",
    "print(classification_report(y_test, y_pred))\n",
    "\n",
    "\n",
    "# Spect Stat\n",
    "\n",
    "train_temp_s, test_temp_s = paper_channels_impl(channel_index, x_train_stat_spect, y_train,  x_test_stat_spect, y_test)\n",
    "kclf = KNeighborsClassifier(n_neighbors=1)\n",
    "kclf.fit(train_temp_s, y_train)\n",
    "y_pred = kclf.predict(test_temp_s)\n",
    "print(\" Spect Stat Accuracy:\", accuracy_score(y_test, y_pred))\n",
    "print(\"\\n -------------Classification Report-------------\\n\")\n",
    "print(classification_report(y_test, y_pred))\n",
    "\n",
    "# Stat Temp\n",
    "\n",
    "train_temp_s, test_temp_s = paper_channels_impl(channel_index, x_train_stat_temp, y_train,  x_test_stat_temp, y_test)\n",
    "kclf = KNeighborsClassifier(n_neighbors=1)\n",
    "kclf.fit(train_temp_s, y_train)\n",
    "y_pred = kclf.predict(test_temp_s)\n",
    "print(\" Stat Temp Accuracy:\", accuracy_score(y_test, y_pred))\n",
    "print(\"\\n -------------Classification Report-------------\\n\")\n",
    "print(classification_report(y_test, y_pred))\n",
    "\n",
    "# Temp Spect\n",
    "\n",
    "train_temp_s, test_temp_s = paper_channels_impl(channel_index, x_train_temp_spect, y_train,  x_test_temp_spect, y_test)\n",
    "kclf = KNeighborsClassifier(n_neighbors=1)\n",
    "kclf.fit(train_temp_s, y_train)\n",
    "y_pred = kclf.predict(test_temp_s)\n",
    "print(\" Temp Spect Accuracy:\", accuracy_score(y_test, y_pred))\n",
    "print(\"\\n -------------Classification Report-------------\\n\")\n",
    "print(classification_report(y_test, y_pred))\n",
    "\n",
    "# All Stat, spect, Temp\n",
    "\n",
    "train_temp_s, test_temp_s = paper_channels_impl(channel_index, x_train_all_features, y_train,  x_test_all_features, y_test)\n",
    "kclf = KNeighborsClassifier(n_neighbors=1)\n",
    "kclf.fit(train_temp_s, y_train)\n",
    "y_pred = kclf.predict(test_temp_s)\n",
    "print(\" All Accuracy:\", accuracy_score(y_test, y_pred))\n",
    "print(\"\\n -------------Classification Report-------------\\n\")\n",
    "print(classification_report(y_test, y_pred))"
   ]
  },
  {
   "cell_type": "code",
   "execution_count": 244,
   "id": "3085e521",
   "metadata": {},
   "outputs": [
    {
     "data": {
      "text/plain": [
       "16"
      ]
     },
     "execution_count": 244,
     "metadata": {},
     "output_type": "execute_result"
    }
   ],
   "source": [
    "paper_3 = [\"T7\", \"T8\", \"TP9\", \"TP10\", \"F3\", \"F4\", \"F7\",\"F8\", \"FC1\",\"FC2\",\"FC5\",\"Fp1\", \"Fp2\", \"FT9\", \"FT10\", \"Fz\"]\n",
    "len(paper_3)\n",
    "# Continuous Silent Speech Recognition using EEG"
   ]
  },
  {
   "cell_type": "code",
   "execution_count": 245,
   "id": "e71bdb8f",
   "metadata": {},
   "outputs": [
    {
     "data": {
      "text/plain": [
       "[0, 1, 2, 3, 4, 5, 6, 7, 8, 9, 11, 15, 16, 21, 40, 45]"
      ]
     },
     "execution_count": 245,
     "metadata": {},
     "output_type": "execute_result"
    }
   ],
   "source": [
    "channel_index = []\n",
    "for idx, i in enumerate(channels_names):\n",
    "    if i in paper_3:\n",
    "        channel_index.append(idx)\n",
    "    else:\n",
    "        pass\n",
    "channel_index"
   ]
  },
  {
   "cell_type": "code",
   "execution_count": 247,
   "id": "e979a8e6",
   "metadata": {},
   "outputs": [
    {
     "name": "stdout",
     "output_type": "stream",
     "text": [
      " Spect Accuracy: 0.3506666666666667\n",
      "\n",
      " -------------Classification Report-------------\n",
      "\n",
      "              precision    recall  f1-score   support\n",
      "\n",
      "           0       0.31      0.33      0.32       150\n",
      "           1       0.35      0.32      0.33       150\n",
      "           2       0.36      0.39      0.37       150\n",
      "           3       0.39      0.33      0.36       150\n",
      "           4       0.35      0.38      0.36       150\n",
      "\n",
      "   micro avg       0.35      0.35      0.35       750\n",
      "   macro avg       0.35      0.35      0.35       750\n",
      "weighted avg       0.35      0.35      0.35       750\n",
      " samples avg       0.35      0.35      0.35       750\n",
      "\n",
      " Stat Accuracy: 0.4826666666666667\n",
      "\n",
      " -------------Classification Report-------------\n",
      "\n",
      "              precision    recall  f1-score   support\n",
      "\n",
      "           0       0.47      0.52      0.50       150\n",
      "           1       0.48      0.48      0.48       150\n",
      "           2       0.50      0.49      0.49       150\n",
      "           3       0.47      0.45      0.46       150\n",
      "           4       0.50      0.47      0.48       150\n",
      "\n",
      "   micro avg       0.48      0.48      0.48       750\n",
      "   macro avg       0.48      0.48      0.48       750\n",
      "weighted avg       0.48      0.48      0.48       750\n",
      " samples avg       0.48      0.48      0.48       750\n",
      "\n",
      " Temp Accuracy: 0.6333333333333333\n",
      "\n",
      " -------------Classification Report-------------\n",
      "\n",
      "              precision    recall  f1-score   support\n",
      "\n",
      "           0       0.61      0.68      0.64       150\n",
      "           1       0.56      0.55      0.56       150\n",
      "           2       0.69      0.66      0.67       150\n",
      "           3       0.62      0.63      0.63       150\n",
      "           4       0.70      0.64      0.67       150\n",
      "\n",
      "   micro avg       0.63      0.63      0.63       750\n",
      "   macro avg       0.64      0.63      0.63       750\n",
      "weighted avg       0.64      0.63      0.63       750\n",
      " samples avg       0.63      0.63      0.63       750\n",
      "\n",
      " Spect Stat Accuracy: 0.2773333333333333\n",
      "\n",
      " -------------Classification Report-------------\n",
      "\n",
      "              precision    recall  f1-score   support\n",
      "\n",
      "           0       0.32      0.35      0.33       150\n",
      "           1       0.30      0.33      0.31       150\n",
      "           2       0.29      0.28      0.29       150\n",
      "           3       0.24      0.22      0.23       150\n",
      "           4       0.23      0.21      0.22       150\n",
      "\n",
      "   micro avg       0.28      0.28      0.28       750\n",
      "   macro avg       0.27      0.28      0.28       750\n",
      "weighted avg       0.27      0.28      0.28       750\n",
      " samples avg       0.28      0.28      0.28       750\n",
      "\n",
      " Stat Temp Accuracy: 0.516\n",
      "\n",
      " -------------Classification Report-------------\n",
      "\n",
      "              precision    recall  f1-score   support\n",
      "\n",
      "           0       0.54      0.57      0.56       150\n",
      "           1       0.51      0.49      0.50       150\n",
      "           2       0.51      0.49      0.50       150\n",
      "           3       0.47      0.48      0.48       150\n",
      "           4       0.54      0.54      0.54       150\n",
      "\n",
      "   micro avg       0.52      0.52      0.52       750\n",
      "   macro avg       0.52      0.52      0.52       750\n",
      "weighted avg       0.52      0.52      0.52       750\n",
      " samples avg       0.52      0.52      0.52       750\n",
      "\n",
      " Temp Spect Accuracy: 0.30533333333333335\n",
      "\n",
      " -------------Classification Report-------------\n",
      "\n",
      "              precision    recall  f1-score   support\n",
      "\n",
      "           0       0.29      0.27      0.28       150\n",
      "           1       0.30      0.32      0.31       150\n",
      "           2       0.34      0.37      0.35       150\n",
      "           3       0.31      0.29      0.30       150\n",
      "           4       0.29      0.27      0.28       150\n",
      "\n",
      "   micro avg       0.31      0.31      0.31       750\n",
      "   macro avg       0.30      0.31      0.30       750\n",
      "weighted avg       0.30      0.31      0.30       750\n",
      " samples avg       0.31      0.31      0.31       750\n",
      "\n",
      " All Accuracy: 0.25733333333333336\n",
      "\n",
      " -------------Classification Report-------------\n",
      "\n",
      "              precision    recall  f1-score   support\n",
      "\n",
      "           0       0.26      0.24      0.25       150\n",
      "           1       0.21      0.21      0.21       150\n",
      "           2       0.27      0.26      0.27       150\n",
      "           3       0.31      0.34      0.32       150\n",
      "           4       0.23      0.23      0.23       150\n",
      "\n",
      "   micro avg       0.26      0.26      0.26       750\n",
      "   macro avg       0.26      0.26      0.26       750\n",
      "weighted avg       0.26      0.26      0.26       750\n",
      " samples avg       0.26      0.26      0.26       750\n",
      "\n"
     ]
    }
   ],
   "source": [
    "# Spect\n",
    "\n",
    "train_temp_s, test_temp_s = paper_channels_impl(channel_index, x_train_spect, y_train,  x_test_spect, y_test)\n",
    "kclf = KNeighborsClassifier(n_neighbors=1)\n",
    "kclf.fit(train_temp_s, y_train)\n",
    "y_pred = kclf.predict(test_temp_s)\n",
    "print(\" Spect Accuracy:\", accuracy_score(y_test, y_pred))\n",
    "print(\"\\n -------------Classification Report-------------\\n\")\n",
    "print(classification_report(y_test, y_pred))\n",
    "\n",
    "# Statistical\n",
    "\n",
    "train_temp_s, test_temp_s = paper_channels_impl(channel_index, x_train_stat, y_train,  x_test_stat, y_test)\n",
    "kclf = KNeighborsClassifier(n_neighbors=1)\n",
    "kclf.fit(train_temp_s, y_train)\n",
    "y_pred = kclf.predict(test_temp_s)\n",
    "print(\" Stat Accuracy:\", accuracy_score(y_test, y_pred))\n",
    "print(\"\\n -------------Classification Report-------------\\n\")\n",
    "print(classification_report(y_test, y_pred))\n",
    "\n",
    "\n",
    "\n",
    "train_temp_s, test_temp_s = paper_channels_impl(channel_index, x_train_temp, y_train,  x_test_temp, y_test)\n",
    "kclf = KNeighborsClassifier(n_neighbors=1)\n",
    "kclf.fit(train_temp_s, y_train)\n",
    "y_pred = kclf.predict(test_temp_s)\n",
    "print(\" Temp Accuracy:\", accuracy_score(y_test, y_pred))\n",
    "print(\"\\n -------------Classification Report-------------\\n\")\n",
    "print(classification_report(y_test, y_pred))\n",
    "\n",
    "\n",
    "# Spect Stat\n",
    "\n",
    "train_temp_s, test_temp_s = paper_channels_impl(channel_index, x_train_stat_spect, y_train,  x_test_stat_spect, y_test)\n",
    "kclf = KNeighborsClassifier(n_neighbors=1)\n",
    "kclf.fit(train_temp_s, y_train)\n",
    "y_pred = kclf.predict(test_temp_s)\n",
    "print(\" Spect Stat Accuracy:\", accuracy_score(y_test, y_pred))\n",
    "print(\"\\n -------------Classification Report-------------\\n\")\n",
    "print(classification_report(y_test, y_pred))\n",
    "\n",
    "# Stat Temp\n",
    "\n",
    "train_temp_s, test_temp_s = paper_channels_impl(channel_index, x_train_stat_temp, y_train,  x_test_stat_temp, y_test)\n",
    "kclf = KNeighborsClassifier(n_neighbors=1)\n",
    "kclf.fit(train_temp_s, y_train)\n",
    "y_pred = kclf.predict(test_temp_s)\n",
    "print(\" Stat Temp Accuracy:\", accuracy_score(y_test, y_pred))\n",
    "print(\"\\n -------------Classification Report-------------\\n\")\n",
    "print(classification_report(y_test, y_pred))\n",
    "\n",
    "# Temp Spect\n",
    "\n",
    "train_temp_s, test_temp_s = paper_channels_impl(channel_index, x_train_temp_spect, y_train,  x_test_temp_spect, y_test)\n",
    "kclf = KNeighborsClassifier(n_neighbors=1)\n",
    "kclf.fit(train_temp_s, y_train)\n",
    "y_pred = kclf.predict(test_temp_s)\n",
    "print(\" Temp Spect Accuracy:\", accuracy_score(y_test, y_pred))\n",
    "print(\"\\n -------------Classification Report-------------\\n\")\n",
    "print(classification_report(y_test, y_pred))\n",
    "\n",
    "# All Stat, spect, Temp\n",
    "\n",
    "train_temp_s, test_temp_s = paper_channels_impl(channel_index, x_train_all_features, y_train,  x_test_all_features, y_test)\n",
    "kclf = KNeighborsClassifier(n_neighbors=1)\n",
    "kclf.fit(train_temp_s, y_train)\n",
    "y_pred = kclf.predict(test_temp_s)\n",
    "print(\" All Accuracy:\", accuracy_score(y_test, y_pred))\n",
    "print(\"\\n -------------Classification Report-------------\\n\")\n",
    "print(classification_report(y_test, y_pred))"
   ]
  },
  {
   "cell_type": "code",
   "execution_count": null,
   "id": "46d7cba4",
   "metadata": {},
   "outputs": [],
   "source": []
  }
 ],
 "metadata": {
  "kernelspec": {
   "display_name": "Python 3 (ipykernel)",
   "language": "python",
   "name": "python3"
  },
  "language_info": {
   "codemirror_mode": {
    "name": "ipython",
    "version": 3
   },
   "file_extension": ".py",
   "mimetype": "text/x-python",
   "name": "python",
   "nbconvert_exporter": "python",
   "pygments_lexer": "ipython3",
   "version": "3.9.7"
  }
 },
 "nbformat": 4,
 "nbformat_minor": 5
}
